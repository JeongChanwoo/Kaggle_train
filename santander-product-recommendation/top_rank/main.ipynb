{
 "cells": [
  {
   "cell_type": "code",
   "execution_count": 1,
   "metadata": {},
   "outputs": [],
   "source": [
    "import math\n",
    "import io\n",
    "\n",
    "#파일 압축 용도\n",
    "import gzip\n",
    "import pickle\n",
    "import zlib\n",
    "\n",
    "# 데이터, 배열\n",
    "import pandas as pd\n",
    "import numpy as np\n",
    "\n",
    "# 범주형 수치형 변환\n",
    "from sklearn.preprocessing import LabelEncoder\n",
    "\n",
    "np.random.seed(2016)\n",
    "transformers={}"
   ]
  },
  {
   "cell_type": "code",
   "execution_count": 2,
   "metadata": {},
   "outputs": [],
   "source": [
    "# 라벨 인코더 함수\n",
    "def label_encoder(df, features, name):\n",
    "    # 데이터 프레임 df의 변수 name값을 모두 string으로 변환\n",
    "    df[name] = df[name].astype('str')\n",
    "    \n",
    "    #이미 라벨 인코더 했던 변수는 trasformer[name]에 있는 라벨 인코더를 재활용\n",
    "    if name in transformers:\n",
    "        df[name] = transformers[name].transform(df[name])\n",
    "        \n",
    "    #처음 나오는 변수는 transformer에 라벨인코더를 저장하고 fit_transfrom으로 라벨인코딩\n",
    "    else:\n",
    "        transformers[name] = LabelEncoder()\n",
    "        df[name] = transformers[name].fit_transform(df[name])\n",
    "        # 라벨인코딩한 변수는 features 리스트에 추가\n",
    "        features.append(name)"
   ]
  },
  {
   "cell_type": "code",
   "execution_count": null,
   "metadata": {},
   "outputs": [],
   "source": [
    "# 자체 구현 one hot encoder\n",
    "def custom_one_hot(df, features, name, names, dtype = np.int8, check = False):\n",
    "    "
   ]
  },
  {
   "cell_type": "code",
   "execution_count": 3,
   "metadata": {},
   "outputs": [],
   "source": [
    "# 빈도 상위 100개 데이터 순위 변수 추출\n",
    "def encode_top(s, count=100, dtype = np.int8):\n",
    "    # 고유값 빈도 계산\n",
    "    uniqs, freqs = np.unique(s, return_counts=True)\n",
    "    # 빈도 top 100 추출\n",
    "    top = sorted(zip(uniqs, freqs), key = lambda vk : vk[1], reverse= True)[:count]\n",
    "    \n",
    "    # 기존데이터 : 순위 dict 생성\n",
    "    top_map = {uf[0] : l + 1 for uf, l in zip(top, range(len(top)))}\n",
    "    \n",
    "    # 고빈도 100개의 데이터는 순위로 대체, 그외는 0으로 대체\n",
    "    return s.map(lambda x: top_map.get(x,0)).astype(dtype)"
   ]
  },
  {
   "cell_type": "code",
   "execution_count": 4,
   "metadata": {},
   "outputs": [],
   "source": [
    "#날짜데이터를 월 단위 숫자로 변환 utils.py\n",
    "\n",
    "def date_to_float(str_date):\n",
    "    if str_date.__class__ is float and math.isnan(str_date) or str_date ==\"\":\n",
    "        return np.nan\n",
    "\n",
    "    Y, M, D = [int(a) for a in str_date.strip().split(\"-\")]\n",
    "    float_date = float(Y) * 12 + float(M)\n",
    "    return float_date\n",
    "\n",
    "\n",
    "#날짜데이터를 월단위로 변환하여 1~18사이로 제한\n",
    "def date_to_int(str_date):\n",
    "    Y,M,D = [int(a) for a in str_date.strip().split(\"-\")]\n",
    "    int_date = (int(Y) - 2015) * 12 + int(M)\n",
    "    assert 1 <= int_date <= 12+6\n",
    "    return int_date\n"
   ]
  },
  {
   "cell_type": "code",
   "execution_count": null,
   "metadata": {},
   "outputs": [],
   "source": []
  }
 ],
 "metadata": {
  "kernelspec": {
   "display_name": "Python (ml_python_linux)",
   "language": "python",
   "name": "ml_python_linux"
  },
  "language_info": {
   "codemirror_mode": {
    "name": "ipython",
    "version": 3
   },
   "file_extension": ".py",
   "mimetype": "text/x-python",
   "name": "python",
   "nbconvert_exporter": "python",
   "pygments_lexer": "ipython3",
   "version": "3.5.5"
  }
 },
 "nbformat": 4,
 "nbformat_minor": 2
}
