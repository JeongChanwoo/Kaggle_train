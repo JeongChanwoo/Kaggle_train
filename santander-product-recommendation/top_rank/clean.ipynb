{
 "cells": [
  {
   "cell_type": "code",
   "execution_count": 1,
   "metadata": {},
   "outputs": [],
   "source": [
    "def clean_data(fi, fo, header, suffix):\n",
    "    # fi : 훈련 테스트 데이터를 읽어오는 fileiterator\n",
    "    # fo : 통합되는 데이터가 write 되는 경로\n",
    "    # header : 데이터에 header 줄을 추가할 것인지를 결정하는 boolean\n",
    "    # suffix : 테스트 데이터의 부족한 24개 칼럼 공백으로 채움\n",
    "    \n",
    "    \n",
    "    # csv 첫줄 head 읽어옴\n",
    "    head = fi.readline().strip(\"\\n\").split(\",\")\n",
    "    head = [h.strip('\"') for h in head]\n",
    "    \n",
    "    # 'nomprov' 변수의 위치를 ip에 저장\n",
    "    for i, h in enumerate(head):\n",
    "        if h == \"nomprov\":\n",
    "            ip = i\n",
    "        \n",
    "    # header가 True 일경우 저장할 파일의 header를 write\n",
    "    if header:\n",
    "        fo.write(\"%s\\n\" % \",\".join(head))\n",
    "\n",
    "    # n은 읽어온 변수의 개수를 의미\n",
    "    n = len(head)\n",
    "    for line in fi:\n",
    "        # 파일의 내용을 읽어와서 줄바꿈과 ','으로 분리\n",
    "        fields = line.strip(\"\\n\").split(\",\")\n",
    "\n",
    "        # 'nomprov' 변수에 ','을 포함하는 데이터가 존재. ',' 으로 분리된 데이터를 다시 조합\n",
    "        if len(fields) > n :\n",
    "            prov = fields[ip] + fields[ip+1]\n",
    "            del fields[ip]\n",
    "            fields[ip] = prov\n",
    "            \n",
    "        # 데이터  개수가 n개와 동일한지 확인하고, 파일에 write함\n",
    "        assert len(fields) == n\n",
    "        fields = [field.strip() for field in fields]\n",
    "        fo.write(\"%s%s\\n\" % (\",\".join(fields), suffix))\n",
    "                \n",
    "                "
   ]
  },
  {
   "cell_type": "code",
   "execution_count": 2,
   "metadata": {},
   "outputs": [],
   "source": [
    "#하나의 데이터로 통합하는 코드 실행. 먼저 훈련 데이터를 write 하고, 테스트 데이터를 write 한다."
   ]
  },
  {
   "cell_type": "code",
   "execution_count": null,
   "metadata": {},
   "outputs": [],
   "source": []
  },
  {
   "cell_type": "code",
   "execution_count": 3,
   "metadata": {},
   "outputs": [],
   "source": [
    "with open(\"/home/jeongchanwoo/workspace/git/study/Kaggle_data/santander-product-recommendation/input/8th.clean.all.csv\", \"w\") as f:\n",
    "    clean_data(open(\"/home/jeongchanwoo/workspace/git/study/Kaggle_data/santander-product-recommendation/input/train_ver2.csv\"), f, True, \"\")\n",
    "    comma24 = \"\".join([\",\" for i in range(24)]) # 테스트 데이터 공백 칼럼(상품) 해결\n",
    "    clean_data(open(\"/home/jeongchanwoo/workspace/git/study/Kaggle_data/santander-product-recommendation/input/test_ver2.csv\"),f, False, comma24)"
   ]
  },
  {
   "cell_type": "code",
   "execution_count": null,
   "metadata": {},
   "outputs": [],
   "source": []
  }
 ],
 "metadata": {
  "kernelspec": {
   "display_name": "Python (ml_python_linux)",
   "language": "python",
   "name": "ml_python_linux"
  },
  "language_info": {
   "codemirror_mode": {
    "name": "ipython",
    "version": 3
   },
   "file_extension": ".py",
   "mimetype": "text/x-python",
   "name": "python",
   "nbconvert_exporter": "python",
   "pygments_lexer": "ipython3",
   "version": "3.5.5"
  }
 },
 "nbformat": 4,
 "nbformat_minor": 2
}
