{
 "cells": [
  {
   "cell_type": "code",
   "execution_count": 2,
   "metadata": {},
   "outputs": [],
   "source": [
    "import pandas as pd\n",
    "import numpy as np\n",
    "import xgboost as xgb"
   ]
  },
  {
   "cell_type": "code",
   "execution_count": 3,
   "metadata": {},
   "outputs": [
    {
     "name": "stderr",
     "output_type": "stream",
     "text": [
      "/home/jeongchanwoo/miniconda3/envs/ml_python_linux/lib/python3.5/site-packages/IPython/core/interactiveshell.py:2785: DtypeWarning: Columns (5,8,11,15) have mixed types. Specify dtype option on import or set low_memory=False.\n",
      "  interactivity=interactivity, compiler=compiler, result=result)\n",
      "/home/jeongchanwoo/miniconda3/envs/ml_python_linux/lib/python3.5/site-packages/IPython/core/interactiveshell.py:2785: DtypeWarning: Columns (15) have mixed types. Specify dtype option on import or set low_memory=False.\n",
      "  interactivity=interactivity, compiler=compiler, result=result)\n"
     ]
    }
   ],
   "source": [
    "np.random.seed(2018)\n",
    "\n",
    "trn = pd.read_csv('/home/jeongchanwoo/workspace/git/study/Kaggle_data/santander-product-recommendation/input/train_ver2.csv')\n",
    "tst = pd.read_csv('/home/jeongchanwoo/workspace/git/study/Kaggle_data/santander-product-recommendation/input/test_ver2.csv')"
   ]
  },
  {
   "cell_type": "code",
   "execution_count": 4,
   "metadata": {},
   "outputs": [],
   "source": [
    "## 데이터 전처리 ##\n",
    "\n",
    "# 제품 변수\n",
    "prods = trn.columns[24:].tolist()\n",
    "\n",
    "# 제품 변수 결측값 0으로 대체\n",
    "trn[prods] = trn[prods].fillna(0).astype(np.int8)"
   ]
  },
  {
   "cell_type": "code",
   "execution_count": 5,
   "metadata": {},
   "outputs": [],
   "source": [
    "#24개 제품 중 하나도 보유하지 않은 고객 제거\n",
    "no_product = trn[prods].sum(axis=1) ==0\n",
    "trn = trn[~no_product]"
   ]
  },
  {
   "cell_type": "code",
   "execution_count": 6,
   "metadata": {},
   "outputs": [],
   "source": [
    "# 훈련 데이터 테스트 데이터 통합 테스트 데이터에 없는 제품 변수 0으로 채움\n",
    "for col in trn.columns[24:]:\n",
    "    tst[col] = 0\n",
    "df = pd.concat([trn, tst], axis = 0)"
   ]
  },
  {
   "cell_type": "code",
   "execution_count": 7,
   "metadata": {},
   "outputs": [],
   "source": [
    "# 학습 변수 list\n",
    "features = []\n"
   ]
  },
  {
   "cell_type": "code",
   "execution_count": 8,
   "metadata": {},
   "outputs": [],
   "source": [
    "categorical_cols = ['ind_empleado', 'pais_residencia', 'sexo', 'tiprel_1mes', 'indresi', 'indext', 'conyuemp','canal_entrada', 'indfall', 'tipodom', 'nomprov', 'segmento']"
   ]
  },
  {
   "cell_type": "code",
   "execution_count": 9,
   "metadata": {},
   "outputs": [],
   "source": [
    "for col in categorical_cols:\n",
    "    df[col], _ = df[col].factorize(na_sentinel = -99)\n",
    "features += categorical_cols"
   ]
  },
  {
   "cell_type": "code",
   "execution_count": 10,
   "metadata": {},
   "outputs": [
    {
     "data": {
      "text/plain": [
       "array([137940.75, '         NA'], dtype=object)"
      ]
     },
     "execution_count": 10,
     "metadata": {},
     "output_type": "execute_result"
    }
   ],
   "source": [
    "df['renta'][929602].values"
   ]
  },
  {
   "cell_type": "code",
   "execution_count": 11,
   "metadata": {},
   "outputs": [
    {
     "data": {
      "text/plain": [
       "array([87218.1, 35548.74, 122179.11000000002, ..., '  139164.12',\n",
       "       '  100647.45', '   72765.27'], dtype=object)"
      ]
     },
     "execution_count": 11,
     "metadata": {},
     "output_type": "execute_result"
    }
   ],
   "source": [
    "df.renta.unique()"
   ]
  },
  {
   "cell_type": "code",
   "execution_count": 12,
   "metadata": {},
   "outputs": [],
   "source": [
    "# 수치형 변수의 특이값, 결측값 -99로 대체하고 정수형 변환\n",
    "df['age'].replace(' NA', -99, inplace = True)\n",
    "df['age']  = df['age'].astype(np.int8)\n",
    "\n",
    "df['antiguedad'].replace('     NA', -99, inplace = True)\n",
    "df['antiguedad']  = df['antiguedad'].astype(np.int8)\n",
    "\n",
    "df['renta'].replace('         NA', -99, inplace = True)\n",
    "df['renta'].fillna(-99, inplace=True)\n",
    "df['renta']  = df['renta'].astype(float).astype(np.int8)\n",
    "\n",
    "df['indrel_1mes'].replace('P', 5, inplace = True)\n",
    "df['indrel_1mes'].fillna(-99, inplace=True)\n",
    "df['indrel_1mes']  = df['indrel_1mes'].astype(float).astype(np.int8)"
   ]
  },
  {
   "cell_type": "code",
   "execution_count": 13,
   "metadata": {},
   "outputs": [],
   "source": [
    "# 학습에 사용되는 수치형 변수 features에 추가\n",
    "features += ['age' ,'antiguedad', 'renta', 'ind_nuevo', 'indrel', 'indrel_1mes', 'ind_actividad_cliente']"
   ]
  },
  {
   "cell_type": "markdown",
   "metadata": {},
   "source": [
    "## Feature Engineering"
   ]
  },
  {
   "cell_type": "code",
   "execution_count": 14,
   "metadata": {},
   "outputs": [],
   "source": [
    "# 날짜 변수에서 연도와 월 정보 추출\n",
    "df['fecha_alta_month'] = df['fecha_alta'].map(lambda x : 0.0 if x.__class__ is float else float(x.split('-')[1])).astype(np.int8)\n",
    "df['fecha_alta_year'] = df['fecha_alta'].map(lambda x : 0.0 if x.__class__ is float else float(x.split('-')[0])).astype(np.int16)\n",
    "features += ['fecha_alta_month', 'fecha_alta_year']\n",
    "\n",
    "df['ult_fec_cli_1t_month'] = df['ult_fec_cli_1t'].map(lambda x : 0.0 if x.__class__ is float else float(x.split('-')[1])).astype(np.int8)\n",
    "df['ult_fec_cli_1t_year'] = df['ult_fec_cli_1t'].map(lambda x : 0.0 if x.__class__ is float else float(x.split('-')[0])).astype(np.int16)\n",
    "features += ['ult_fec_cli_1t_month', 'ult_fec_cli_1t_year']"
   ]
  },
  {
   "cell_type": "code",
   "execution_count": 15,
   "metadata": {},
   "outputs": [],
   "source": [
    "# 그외 변수의 결측값은 -99로 대체\n",
    "df.fillna(-99, inplace=True)"
   ]
  },
  {
   "cell_type": "code",
   "execution_count": 16,
   "metadata": {},
   "outputs": [],
   "source": [
    "# lag-1 데이터 생성\n",
    "\n",
    "# 날짜를 숫자로 변환\n",
    "def date_to_int(str_date):\n",
    "    Y, M, D = [int(a) for a in str_date.strip().split(\"-\")]\n",
    "    int_date = (int(Y) - 2015) * 12 + int(M)\n",
    "    return int_date\n",
    "\n",
    "\n",
    "# 날짜를 숫자로 변환해 int_date에 저장\n",
    "df['int_date'] = df['fecha_dato'].map(date_to_int).astype(np.int8)\n",
    "\n",
    "#데이터 카피하고 , int_date 날짜에 1을 더해 lag를 생성, 변수명에 _prev 추가\n",
    "df_lag = df.copy()\n",
    "df_lag.columns = [col + '_prev' if col not in ['ncodpers', 'int_date'] else col for col in df.columns]\n",
    "df_lag['int_date'] += 1"
   ]
  },
  {
   "cell_type": "code",
   "execution_count": 17,
   "metadata": {},
   "outputs": [],
   "source": [
    "#원본과 lag데이터를 ncodper와 int_date기준으로 합침\n",
    "df_trn = df.merge(df_lag, on=['ncodpers', 'int_date'], how = 'left')"
   ]
  },
  {
   "cell_type": "code",
   "execution_count": 18,
   "metadata": {},
   "outputs": [],
   "source": [
    "del df, df_lag"
   ]
  },
  {
   "cell_type": "code",
   "execution_count": 19,
   "metadata": {},
   "outputs": [],
   "source": [
    "# 전 달의 제품 정보가 존재 하지 않을시 0으로 대체\n",
    "for prod in prods:\n",
    "    prev = prod + '_prev'\n",
    "    df_trn[prev].fillna(0, inplace = True)\n",
    "\n",
    "df_trn.fillna(-99, inplace=True)"
   ]
  },
  {
   "cell_type": "code",
   "execution_count": 20,
   "metadata": {},
   "outputs": [],
   "source": [
    "#lag - 1 변수 추가\n",
    "features +=  [feature + '_prev' for feature in features]\n",
    "features +=  [prod + '_prev' for prod in prods]\n",
    "\n",
    "\n",
    "###\n",
    "### 추가 피쳐 엔지니어링\n",
    "###"
   ]
  },
  {
   "cell_type": "code",
   "execution_count": 21,
   "metadata": {},
   "outputs": [
    {
     "data": {
      "text/plain": [
       "['ind_empleado',\n",
       " 'pais_residencia',\n",
       " 'sexo',\n",
       " 'tiprel_1mes',\n",
       " 'indresi',\n",
       " 'indext',\n",
       " 'conyuemp',\n",
       " 'canal_entrada',\n",
       " 'indfall',\n",
       " 'tipodom',\n",
       " 'nomprov',\n",
       " 'segmento',\n",
       " 'age',\n",
       " 'antiguedad',\n",
       " 'renta',\n",
       " 'ind_nuevo',\n",
       " 'indrel',\n",
       " 'indrel_1mes',\n",
       " 'ind_actividad_cliente',\n",
       " 'fecha_alta_month',\n",
       " 'fecha_alta_year',\n",
       " 'ult_fec_cli_1t_month',\n",
       " 'ult_fec_cli_1t_year',\n",
       " 'ind_empleado_prev',\n",
       " 'pais_residencia_prev',\n",
       " 'sexo_prev',\n",
       " 'tiprel_1mes_prev',\n",
       " 'indresi_prev',\n",
       " 'indext_prev',\n",
       " 'conyuemp_prev',\n",
       " 'canal_entrada_prev',\n",
       " 'indfall_prev',\n",
       " 'tipodom_prev',\n",
       " 'nomprov_prev',\n",
       " 'segmento_prev',\n",
       " 'age_prev',\n",
       " 'antiguedad_prev',\n",
       " 'renta_prev',\n",
       " 'ind_nuevo_prev',\n",
       " 'indrel_prev',\n",
       " 'indrel_1mes_prev',\n",
       " 'ind_actividad_cliente_prev',\n",
       " 'fecha_alta_month_prev',\n",
       " 'fecha_alta_year_prev',\n",
       " 'ult_fec_cli_1t_month_prev',\n",
       " 'ult_fec_cli_1t_year_prev',\n",
       " 'ind_ahor_fin_ult1_prev',\n",
       " 'ind_aval_fin_ult1_prev',\n",
       " 'ind_cco_fin_ult1_prev',\n",
       " 'ind_cder_fin_ult1_prev',\n",
       " 'ind_cno_fin_ult1_prev',\n",
       " 'ind_ctju_fin_ult1_prev',\n",
       " 'ind_ctma_fin_ult1_prev',\n",
       " 'ind_ctop_fin_ult1_prev',\n",
       " 'ind_ctpp_fin_ult1_prev',\n",
       " 'ind_deco_fin_ult1_prev',\n",
       " 'ind_deme_fin_ult1_prev',\n",
       " 'ind_dela_fin_ult1_prev',\n",
       " 'ind_ecue_fin_ult1_prev',\n",
       " 'ind_fond_fin_ult1_prev',\n",
       " 'ind_hip_fin_ult1_prev',\n",
       " 'ind_plan_fin_ult1_prev',\n",
       " 'ind_pres_fin_ult1_prev',\n",
       " 'ind_reca_fin_ult1_prev',\n",
       " 'ind_tjcr_fin_ult1_prev',\n",
       " 'ind_valo_fin_ult1_prev',\n",
       " 'ind_viv_fin_ult1_prev',\n",
       " 'ind_nomina_ult1_prev',\n",
       " 'ind_nom_pens_ult1_prev',\n",
       " 'ind_recibo_ult1_prev']"
      ]
     },
     "execution_count": 21,
     "metadata": {},
     "output_type": "execute_result"
    }
   ],
   "source": [
    "features"
   ]
  },
  {
   "cell_type": "markdown",
   "metadata": {},
   "source": [
    "## 교차검증 데이터 분리"
   ]
  },
  {
   "cell_type": "code",
   "execution_count": 22,
   "metadata": {},
   "outputs": [],
   "source": [
    "# 2016-01-28 ~ 2016-04-28데이터를 학습에 사용하고\n",
    "# 검증에 2016-05-28 데이터를 사용한다.\n",
    "\n",
    "use_dates = ['2016-01-28', '2016-02-28', '2016-03-28', '2016-04-28', '2016-05-28']\n",
    "trn = df_trn[df_trn['fecha_dato'].isin(use_dates)]\n",
    "tst = df_trn[df_trn['fecha_dato'] == '2016-06-28']\n",
    "del df_trn\n",
    "\n",
    "\n"
   ]
  },
  {
   "cell_type": "code",
   "execution_count": 23,
   "metadata": {},
   "outputs": [],
   "source": [
    "# 훈련 데이터에서 신규 구매 건수만 추출\n",
    "X = []\n",
    "Y = []\n",
    "\n",
    "for i,prod in enumerate(prods):\n",
    "    prev = prod + '_prev'\n",
    "    prX = trn[(trn[prod] == 1) & (trn[prev] == 0 )] # 상품 구매자\n",
    "    prY = np.zeros(prX.shape[0], dtype=np.int8) + i #상품 숫자(LE)\n",
    "    X.append(prX)\n",
    "    Y.append(prY)"
   ]
  },
  {
   "cell_type": "code",
   "execution_count": 24,
   "metadata": {},
   "outputs": [],
   "source": [
    "XY = pd.concat(X)\n",
    "Y = np.hstack(Y)\n",
    "XY['y'] = Y"
   ]
  },
  {
   "cell_type": "code",
   "execution_count": 25,
   "metadata": {},
   "outputs": [],
   "source": [
    "# 훈련 검증 데이터 분리\n",
    "vld_date = '2016-05-28'\n",
    "xy_trn = XY[XY['fecha_dato'] != vld_date]\n",
    "xy_vld = XY[XY['fecha_dato'] == vld_date]"
   ]
  },
  {
   "cell_type": "markdown",
   "metadata": {},
   "source": [
    "## XGBoost 학습"
   ]
  },
  {
   "cell_type": "code",
   "execution_count": null,
   "metadata": {},
   "outputs": [],
   "source": []
  },
  {
   "cell_type": "code",
   "execution_count": 27,
   "metadata": {},
   "outputs": [
    {
     "ename": "SyntaxError",
     "evalue": "invalid syntax (<ipython-input-27-dfadb907a9a2>, line 22)",
     "output_type": "error",
     "traceback": [
      "\u001b[0;36m  File \u001b[0;32m\"<ipython-input-27-dfadb907a9a2>\"\u001b[0;36m, line \u001b[0;32m22\u001b[0m\n\u001b[0;31m    dtrn = xgb.(X_trn, label=Y_trn, feature_names=features)\u001b[0m\n\u001b[0m               ^\u001b[0m\n\u001b[0;31mSyntaxError\u001b[0m\u001b[0;31m:\u001b[0m invalid syntax\n"
     ]
    }
   ],
   "source": [
    "param = {\n",
    "    'booster' : 'gbtree',\n",
    "    'max_depth' : 8,\n",
    "    'nthread' : -1,\n",
    "    'num_class' : len(prods),\n",
    "    'objective' : 'multi:softprob',\n",
    "    'silent' : 1,\n",
    "    'eval_metric' : 'mlogloss',\n",
    "    'eta' : 0.1,\n",
    "    'min_child_weight' : 10,\n",
    "    'colsample_bytree' : 0.8,\n",
    "    'colsample_bylevel' : 0.9,\n",
    "    'seed' : 2018,\n",
    "    'max_bin': 16, # GPU \n",
    "    'tree_method': 'gpu_hist', # GPU method (자세한 설명은 문서로!)\n",
    "    'predictor':'gpu_predictor' # train뿐만아니라 predict할때도 gpu쓸건지 결정\n",
    "    \n",
    "}\n",
    "# XGBoost 형태로 훈련, 검증 데이터 변환\n",
    "X_trn = xy_trn.as_matrix(columns=features)\n",
    "Y_trn = xy_trn.as_matrix(columns=['y'])\n",
    "dtrn = xgb.(X_trn, label=Y_trn, feature_names=features)\n",
    "\n",
    "X_vld = xy_vld.as_matrix(columns=features)\n",
    "Y_vld = xy_vld.as_matrix(columns=['y'])\n",
    "dvld = xgb.(X_vld, label=Y_vld, feature_names=features)\n",
    "\n",
    "\n"
   ]
  },
  {
   "cell_type": "code",
   "execution_count": 78,
   "metadata": {},
   "outputs": [
    {
     "ename": "XGBoostError",
     "evalue": "b'[18:59:02] src/learner.cc:151: XGBoost version not compiled with GPU support.\\n\\nStack trace returned 10 entries:\\n[bt] (0) /home/jeongchanwoo/miniconda3/envs/ml_python_linux/lib/python3.5/site-packages/xgboost/./lib/libxgboost.so(_ZN4dmlc15LogMessageFatalD1Ev+0x3c) [0x7fe3a68dc44c]\\n[bt] (1) /home/jeongchanwoo/miniconda3/envs/ml_python_linux/lib/python3.5/site-packages/xgboost/./lib/libxgboost.so(_ZN7xgboost11LearnerImpl17ConfigureUpdatersEv+0x179) [0x7fe3a68e7379]\\n[bt] (2) /home/jeongchanwoo/miniconda3/envs/ml_python_linux/lib/python3.5/site-packages/xgboost/./lib/libxgboost.so(_ZN7xgboost11LearnerImpl9ConfigureERKSt6vectorISt4pairINSt7__cxx1112basic_stringIcSt11char_traitsIcESaIcEEES8_ESaIS9_EE+0x4c5) [0x7fe3a68e9d05]\\n[bt] (3) /home/jeongchanwoo/miniconda3/envs/ml_python_linux/lib/python3.5/site-packages/xgboost/./lib/libxgboost.so(XGBoosterUpdateOneIter+0x4e) [0x7fe3a6a7a8de]\\n[bt] (4) /home/jeongchanwoo/miniconda3/envs/ml_python_linux/lib/python3.5/lib-dynload/../../libffi.so.6(ffi_call_unix64+0x4c) [0x7fe3ecd4dec0]\\n[bt] (5) /home/jeongchanwoo/miniconda3/envs/ml_python_linux/lib/python3.5/lib-dynload/../../libffi.so.6(ffi_call+0x22d) [0x7fe3ecd4d87d]\\n[bt] (6) /home/jeongchanwoo/miniconda3/envs/ml_python_linux/lib/python3.5/lib-dynload/_ctypes.cpython-35m-x86_64-linux-gnu.so(_ctypes_callproc+0x2ce) [0x7fe3ecf62b6e]\\n[bt] (7) /home/jeongchanwoo/miniconda3/envs/ml_python_linux/lib/python3.5/lib-dynload/_ctypes.cpython-35m-x86_64-linux-gnu.so(+0x12595) [0x7fe3ecf63595]\\n[bt] (8) /home/jeongchanwoo/miniconda3/envs/ml_python_linux/bin/python(PyObject_Call+0x3a) [0x5624b1c7089a]\\n[bt] (9) /home/jeongchanwoo/miniconda3/envs/ml_python_linux/bin/python(PyEval_EvalFrameEx+0x4c71) [0x5624b1d17041]\\n'",
     "output_type": "error",
     "traceback": [
      "\u001b[0;31m---------------------------------------------------------------------------\u001b[0m",
      "\u001b[0;31mXGBoostError\u001b[0m                              Traceback (most recent call last)",
      "\u001b[0;32m<ipython-input-78-4c774526f8d9>\u001b[0m in \u001b[0;36m<module>\u001b[0;34m()\u001b[0m\n\u001b[1;32m      1\u001b[0m \u001b[0mwatch_list\u001b[0m \u001b[0;34m=\u001b[0m \u001b[0;34m[\u001b[0m\u001b[0;34m(\u001b[0m\u001b[0mdtrn\u001b[0m\u001b[0;34m,\u001b[0m \u001b[0;34m'train'\u001b[0m\u001b[0;34m)\u001b[0m\u001b[0;34m,\u001b[0m \u001b[0;34m(\u001b[0m\u001b[0mdvld\u001b[0m\u001b[0;34m,\u001b[0m \u001b[0;34m'eval'\u001b[0m\u001b[0;34m)\u001b[0m\u001b[0;34m]\u001b[0m\u001b[0;34m\u001b[0m\u001b[0m\n\u001b[0;32m----> 2\u001b[0;31m \u001b[0mmodel\u001b[0m \u001b[0;34m=\u001b[0m \u001b[0mxgb\u001b[0m\u001b[0;34m.\u001b[0m\u001b[0mtrain\u001b[0m\u001b[0;34m(\u001b[0m\u001b[0mparam\u001b[0m\u001b[0;34m,\u001b[0m \u001b[0mdtrn\u001b[0m\u001b[0;34m,\u001b[0m \u001b[0mnum_boost_round\u001b[0m\u001b[0;34m=\u001b[0m\u001b[0;36m1000\u001b[0m\u001b[0;34m,\u001b[0m \u001b[0mevals\u001b[0m\u001b[0;34m=\u001b[0m\u001b[0mwatch_list\u001b[0m\u001b[0;34m,\u001b[0m \u001b[0mearly_stopping_rounds\u001b[0m\u001b[0;34m=\u001b[0m\u001b[0;36m20\u001b[0m\u001b[0;34m,\u001b[0m \u001b[0mverbose_eval\u001b[0m\u001b[0;34m=\u001b[0m\u001b[0;36m1\u001b[0m\u001b[0;34m)\u001b[0m\u001b[0;34m\u001b[0m\u001b[0m\n\u001b[0m",
      "\u001b[0;32m~/miniconda3/envs/ml_python_linux/lib/python3.5/site-packages/xgboost/training.py\u001b[0m in \u001b[0;36mtrain\u001b[0;34m(params, dtrain, num_boost_round, evals, obj, feval, maximize, early_stopping_rounds, evals_result, verbose_eval, xgb_model, callbacks, learning_rates)\u001b[0m\n\u001b[1;32m    202\u001b[0m                            \u001b[0mevals\u001b[0m\u001b[0;34m=\u001b[0m\u001b[0mevals\u001b[0m\u001b[0;34m,\u001b[0m\u001b[0;34m\u001b[0m\u001b[0m\n\u001b[1;32m    203\u001b[0m                            \u001b[0mobj\u001b[0m\u001b[0;34m=\u001b[0m\u001b[0mobj\u001b[0m\u001b[0;34m,\u001b[0m \u001b[0mfeval\u001b[0m\u001b[0;34m=\u001b[0m\u001b[0mfeval\u001b[0m\u001b[0;34m,\u001b[0m\u001b[0;34m\u001b[0m\u001b[0m\n\u001b[0;32m--> 204\u001b[0;31m                            xgb_model=xgb_model, callbacks=callbacks)\n\u001b[0m\u001b[1;32m    205\u001b[0m \u001b[0;34m\u001b[0m\u001b[0m\n\u001b[1;32m    206\u001b[0m \u001b[0;34m\u001b[0m\u001b[0m\n",
      "\u001b[0;32m~/miniconda3/envs/ml_python_linux/lib/python3.5/site-packages/xgboost/training.py\u001b[0m in \u001b[0;36m_train_internal\u001b[0;34m(params, dtrain, num_boost_round, evals, obj, feval, xgb_model, callbacks)\u001b[0m\n\u001b[1;32m     72\u001b[0m         \u001b[0;31m# Skip the first update if it is a recovery step.\u001b[0m\u001b[0;34m\u001b[0m\u001b[0;34m\u001b[0m\u001b[0m\n\u001b[1;32m     73\u001b[0m         \u001b[0;32mif\u001b[0m \u001b[0mversion\u001b[0m \u001b[0;34m%\u001b[0m \u001b[0;36m2\u001b[0m \u001b[0;34m==\u001b[0m \u001b[0;36m0\u001b[0m\u001b[0;34m:\u001b[0m\u001b[0;34m\u001b[0m\u001b[0m\n\u001b[0;32m---> 74\u001b[0;31m             \u001b[0mbst\u001b[0m\u001b[0;34m.\u001b[0m\u001b[0mupdate\u001b[0m\u001b[0;34m(\u001b[0m\u001b[0mdtrain\u001b[0m\u001b[0;34m,\u001b[0m \u001b[0mi\u001b[0m\u001b[0;34m,\u001b[0m \u001b[0mobj\u001b[0m\u001b[0;34m)\u001b[0m\u001b[0;34m\u001b[0m\u001b[0m\n\u001b[0m\u001b[1;32m     75\u001b[0m             \u001b[0mbst\u001b[0m\u001b[0;34m.\u001b[0m\u001b[0msave_rabit_checkpoint\u001b[0m\u001b[0;34m(\u001b[0m\u001b[0;34m)\u001b[0m\u001b[0;34m\u001b[0m\u001b[0m\n\u001b[1;32m     76\u001b[0m             \u001b[0mversion\u001b[0m \u001b[0;34m+=\u001b[0m \u001b[0;36m1\u001b[0m\u001b[0;34m\u001b[0m\u001b[0m\n",
      "\u001b[0;32m~/miniconda3/envs/ml_python_linux/lib/python3.5/site-packages/xgboost/core.py\u001b[0m in \u001b[0;36mupdate\u001b[0;34m(self, dtrain, iteration, fobj)\u001b[0m\n\u001b[1;32m    896\u001b[0m         \u001b[0;32mif\u001b[0m \u001b[0mfobj\u001b[0m \u001b[0;32mis\u001b[0m \u001b[0;32mNone\u001b[0m\u001b[0;34m:\u001b[0m\u001b[0;34m\u001b[0m\u001b[0m\n\u001b[1;32m    897\u001b[0m             _check_call(_LIB.XGBoosterUpdateOneIter(self.handle, ctypes.c_int(iteration),\n\u001b[0;32m--> 898\u001b[0;31m                                                     dtrain.handle))\n\u001b[0m\u001b[1;32m    899\u001b[0m         \u001b[0;32melse\u001b[0m\u001b[0;34m:\u001b[0m\u001b[0;34m\u001b[0m\u001b[0m\n\u001b[1;32m    900\u001b[0m             \u001b[0mpred\u001b[0m \u001b[0;34m=\u001b[0m \u001b[0mself\u001b[0m\u001b[0;34m.\u001b[0m\u001b[0mpredict\u001b[0m\u001b[0;34m(\u001b[0m\u001b[0mdtrain\u001b[0m\u001b[0;34m)\u001b[0m\u001b[0;34m\u001b[0m\u001b[0m\n",
      "\u001b[0;32m~/miniconda3/envs/ml_python_linux/lib/python3.5/site-packages/xgboost/core.py\u001b[0m in \u001b[0;36m_check_call\u001b[0;34m(ret)\u001b[0m\n\u001b[1;32m    128\u001b[0m     \"\"\"\n\u001b[1;32m    129\u001b[0m     \u001b[0;32mif\u001b[0m \u001b[0mret\u001b[0m \u001b[0;34m!=\u001b[0m \u001b[0;36m0\u001b[0m\u001b[0;34m:\u001b[0m\u001b[0;34m\u001b[0m\u001b[0m\n\u001b[0;32m--> 130\u001b[0;31m         \u001b[0;32mraise\u001b[0m \u001b[0mXGBoostError\u001b[0m\u001b[0;34m(\u001b[0m\u001b[0m_LIB\u001b[0m\u001b[0;34m.\u001b[0m\u001b[0mXGBGetLastError\u001b[0m\u001b[0;34m(\u001b[0m\u001b[0;34m)\u001b[0m\u001b[0;34m)\u001b[0m\u001b[0;34m\u001b[0m\u001b[0m\n\u001b[0m\u001b[1;32m    131\u001b[0m \u001b[0;34m\u001b[0m\u001b[0m\n\u001b[1;32m    132\u001b[0m \u001b[0;34m\u001b[0m\u001b[0m\n",
      "\u001b[0;31mXGBoostError\u001b[0m: b'[18:59:02] src/learner.cc:151: XGBoost version not compiled with GPU support.\\n\\nStack trace returned 10 entries:\\n[bt] (0) /home/jeongchanwoo/miniconda3/envs/ml_python_linux/lib/python3.5/site-packages/xgboost/./lib/libxgboost.so(_ZN4dmlc15LogMessageFatalD1Ev+0x3c) [0x7fe3a68dc44c]\\n[bt] (1) /home/jeongchanwoo/miniconda3/envs/ml_python_linux/lib/python3.5/site-packages/xgboost/./lib/libxgboost.so(_ZN7xgboost11LearnerImpl17ConfigureUpdatersEv+0x179) [0x7fe3a68e7379]\\n[bt] (2) /home/jeongchanwoo/miniconda3/envs/ml_python_linux/lib/python3.5/site-packages/xgboost/./lib/libxgboost.so(_ZN7xgboost11LearnerImpl9ConfigureERKSt6vectorISt4pairINSt7__cxx1112basic_stringIcSt11char_traitsIcESaIcEEES8_ESaIS9_EE+0x4c5) [0x7fe3a68e9d05]\\n[bt] (3) /home/jeongchanwoo/miniconda3/envs/ml_python_linux/lib/python3.5/site-packages/xgboost/./lib/libxgboost.so(XGBoosterUpdateOneIter+0x4e) [0x7fe3a6a7a8de]\\n[bt] (4) /home/jeongchanwoo/miniconda3/envs/ml_python_linux/lib/python3.5/lib-dynload/../../libffi.so.6(ffi_call_unix64+0x4c) [0x7fe3ecd4dec0]\\n[bt] (5) /home/jeongchanwoo/miniconda3/envs/ml_python_linux/lib/python3.5/lib-dynload/../../libffi.so.6(ffi_call+0x22d) [0x7fe3ecd4d87d]\\n[bt] (6) /home/jeongchanwoo/miniconda3/envs/ml_python_linux/lib/python3.5/lib-dynload/_ctypes.cpython-35m-x86_64-linux-gnu.so(_ctypes_callproc+0x2ce) [0x7fe3ecf62b6e]\\n[bt] (7) /home/jeongchanwoo/miniconda3/envs/ml_python_linux/lib/python3.5/lib-dynload/_ctypes.cpython-35m-x86_64-linux-gnu.so(+0x12595) [0x7fe3ecf63595]\\n[bt] (8) /home/jeongchanwoo/miniconda3/envs/ml_python_linux/bin/python(PyObject_Call+0x3a) [0x5624b1c7089a]\\n[bt] (9) /home/jeongchanwoo/miniconda3/envs/ml_python_linux/bin/python(PyEval_EvalFrameEx+0x4c71) [0x5624b1d17041]\\n'"
     ]
    }
   ],
   "source": [
    "watch_list = [(dtrn, 'train'), (dvld, 'eval')]\n",
    "model = xgb.train(param, dtrn, num_boost_round=1000, evals=watch_list, early_stopping_rounds=20, verbose_eval=1)"
   ]
  },
  {
   "cell_type": "code",
   "execution_count": null,
   "metadata": {},
   "outputs": [],
   "source": []
  }
 ],
 "metadata": {
  "kernelspec": {
   "display_name": "Python 3",
   "language": "python",
   "name": "python3"
  },
  "language_info": {
   "codemirror_mode": {
    "name": "ipython",
    "version": 3
   },
   "file_extension": ".py",
   "mimetype": "text/x-python",
   "name": "python",
   "nbconvert_exporter": "python",
   "pygments_lexer": "ipython3",
   "version": "3.5.5"
  }
 },
 "nbformat": 4,
 "nbformat_minor": 2
}
