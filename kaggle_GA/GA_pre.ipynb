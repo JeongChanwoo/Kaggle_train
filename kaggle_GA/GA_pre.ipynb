{
 "cells": [
  {
   "cell_type": "code",
   "execution_count": 1,
   "metadata": {},
   "outputs": [],
   "source": [
    "#Necessary librarys\n",
    "import os\n",
    "import random\n",
    "\n",
    "import pandas as pd\n",
    "import numpy as np\n",
    "from scipy.stats import kurtosis, skew\n",
    "\n",
    "import matplotlib.pyplot as plt\n",
    "import seaborn as sns\n",
    "import squarify\n",
    "\n",
    "import json\n",
    "from pandas.io.json import json_normalize # 이것의 사용법은 더 자세히 봐야겠음\n",
    "\n",
    "plt.style.use('fivethirtyeight')"
   ]
  },
  {
   "cell_type": "markdown",
   "metadata": {},
   "source": [
    "## Transformation Json format"
   ]
  },
  {
   "cell_type": "code",
   "execution_count": 2,
   "metadata": {},
   "outputs": [],
   "source": [
    "columns = ['device', 'geoNetwork', 'totals', 'trafficSource']\n",
    "dir_path  =\"../../Kaggle_data/Google_Analytics/\""
   ]
  },
  {
   "cell_type": "code",
   "execution_count": 3,
   "metadata": {},
   "outputs": [],
   "source": [
    "p = 0.1 #random seaprater in train data\n",
    "\n",
    "# Json to table code\n",
    "def json_read(df):\n",
    "    data_frame = dir_path + df\n",
    "    \n",
    "    df = pd.read_csv(data_frame, \n",
    "                     converters={column : json.loads for column in columns}, \n",
    "                     dtype={'fullVisitorId' : 'str'}, \n",
    "                     skiprows= lambda i : i>0 and random.random()>p)\n",
    "    \n",
    "    for column in columns:\n",
    "        column_as_df = json_normalize(df[column])\n",
    "        column_as_df.columns = [\"{column}.{subcolumn}\".format(column = column, subcolumn = subcolumn) for subcolumn in column_as_df.columns]\n",
    "        df = df.drop(column, axis = 1).merge(column_as_df, right_index = True, left_index = True)\n",
    "        \n",
    "    print(\"Loaded {base_name}. Shape: {shape}\".format(base_name = os.path.basename(data_frame), shape = df.shape))\n",
    "    return df"
   ]
  },
  {
   "cell_type": "code",
   "execution_count": 4,
   "metadata": {},
   "outputs": [
    {
     "name": "stdout",
     "output_type": "stream",
     "text": [
      "Loaded train.csv.zip. Shape: (90582, 54)\n",
      "CPU times: user 13.3 s, sys: 353 ms, total: 13.6 s\n",
      "Wall time: 13.6 s\n"
     ]
    }
   ],
   "source": [
    "%%time\n",
    "df_train = json_read(\"train.csv.zip\")"
   ]
  },
  {
   "cell_type": "code",
   "execution_count": 5,
   "metadata": {},
   "outputs": [
    {
     "data": {
      "text/html": [
       "<div>\n",
       "<style scoped>\n",
       "    .dataframe tbody tr th:only-of-type {\n",
       "        vertical-align: middle;\n",
       "    }\n",
       "\n",
       "    .dataframe tbody tr th {\n",
       "        vertical-align: top;\n",
       "    }\n",
       "\n",
       "    .dataframe thead th {\n",
       "        text-align: right;\n",
       "    }\n",
       "</style>\n",
       "<table border=\"1\" class=\"dataframe\">\n",
       "  <thead>\n",
       "    <tr style=\"text-align: right;\">\n",
       "      <th></th>\n",
       "      <th>channelGrouping</th>\n",
       "      <th>date</th>\n",
       "      <th>fullVisitorId</th>\n",
       "      <th>sessionId</th>\n",
       "      <th>socialEngagementType</th>\n",
       "      <th>visitId</th>\n",
       "      <th>visitNumber</th>\n",
       "      <th>visitStartTime</th>\n",
       "      <th>device.browser</th>\n",
       "      <th>device.browserSize</th>\n",
       "      <th>...</th>\n",
       "      <th>trafficSource.adwordsClickInfo.gclId</th>\n",
       "      <th>trafficSource.adwordsClickInfo.isVideoAd</th>\n",
       "      <th>trafficSource.adwordsClickInfo.page</th>\n",
       "      <th>trafficSource.adwordsClickInfo.slot</th>\n",
       "      <th>trafficSource.campaign</th>\n",
       "      <th>trafficSource.isTrueDirect</th>\n",
       "      <th>trafficSource.keyword</th>\n",
       "      <th>trafficSource.medium</th>\n",
       "      <th>trafficSource.referralPath</th>\n",
       "      <th>trafficSource.source</th>\n",
       "    </tr>\n",
       "  </thead>\n",
       "  <tbody>\n",
       "    <tr>\n",
       "      <th>0</th>\n",
       "      <td>Organic Search</td>\n",
       "      <td>20160902</td>\n",
       "      <td>3895546263509774583</td>\n",
       "      <td>3895546263509774583_1472865386</td>\n",
       "      <td>Not Socially Engaged</td>\n",
       "      <td>1472865386</td>\n",
       "      <td>1</td>\n",
       "      <td>1472865386</td>\n",
       "      <td>Chrome</td>\n",
       "      <td>not available in demo dataset</td>\n",
       "      <td>...</td>\n",
       "      <td>NaN</td>\n",
       "      <td>NaN</td>\n",
       "      <td>NaN</td>\n",
       "      <td>NaN</td>\n",
       "      <td>(not set)</td>\n",
       "      <td>NaN</td>\n",
       "      <td>(not provided)</td>\n",
       "      <td>organic</td>\n",
       "      <td>NaN</td>\n",
       "      <td>google</td>\n",
       "    </tr>\n",
       "    <tr>\n",
       "      <th>1</th>\n",
       "      <td>Organic Search</td>\n",
       "      <td>20160902</td>\n",
       "      <td>27294437909732085</td>\n",
       "      <td>27294437909732085_1472822600</td>\n",
       "      <td>Not Socially Engaged</td>\n",
       "      <td>1472822600</td>\n",
       "      <td>2</td>\n",
       "      <td>1472822600</td>\n",
       "      <td>Chrome</td>\n",
       "      <td>not available in demo dataset</td>\n",
       "      <td>...</td>\n",
       "      <td>NaN</td>\n",
       "      <td>NaN</td>\n",
       "      <td>NaN</td>\n",
       "      <td>NaN</td>\n",
       "      <td>(not set)</td>\n",
       "      <td>True</td>\n",
       "      <td>(not provided)</td>\n",
       "      <td>organic</td>\n",
       "      <td>NaN</td>\n",
       "      <td>google</td>\n",
       "    </tr>\n",
       "    <tr>\n",
       "      <th>2</th>\n",
       "      <td>Organic Search</td>\n",
       "      <td>20160902</td>\n",
       "      <td>2222266935962032743</td>\n",
       "      <td>2222266935962032743_1472826820</td>\n",
       "      <td>Not Socially Engaged</td>\n",
       "      <td>1472826820</td>\n",
       "      <td>1</td>\n",
       "      <td>1472826820</td>\n",
       "      <td>Internet Explorer</td>\n",
       "      <td>not available in demo dataset</td>\n",
       "      <td>...</td>\n",
       "      <td>NaN</td>\n",
       "      <td>NaN</td>\n",
       "      <td>NaN</td>\n",
       "      <td>NaN</td>\n",
       "      <td>(not set)</td>\n",
       "      <td>NaN</td>\n",
       "      <td>(not provided)</td>\n",
       "      <td>organic</td>\n",
       "      <td>NaN</td>\n",
       "      <td>google</td>\n",
       "    </tr>\n",
       "    <tr>\n",
       "      <th>3</th>\n",
       "      <td>Organic Search</td>\n",
       "      <td>20160902</td>\n",
       "      <td>6035953832076917545</td>\n",
       "      <td>6035953832076917545_1472811667</td>\n",
       "      <td>Not Socially Engaged</td>\n",
       "      <td>1472811667</td>\n",
       "      <td>1</td>\n",
       "      <td>1472811667</td>\n",
       "      <td>Chrome</td>\n",
       "      <td>not available in demo dataset</td>\n",
       "      <td>...</td>\n",
       "      <td>NaN</td>\n",
       "      <td>NaN</td>\n",
       "      <td>NaN</td>\n",
       "      <td>NaN</td>\n",
       "      <td>(not set)</td>\n",
       "      <td>NaN</td>\n",
       "      <td>(not provided)</td>\n",
       "      <td>organic</td>\n",
       "      <td>NaN</td>\n",
       "      <td>google</td>\n",
       "    </tr>\n",
       "    <tr>\n",
       "      <th>4</th>\n",
       "      <td>Organic Search</td>\n",
       "      <td>20160902</td>\n",
       "      <td>542217492398994444</td>\n",
       "      <td>542217492398994444_1472822034</td>\n",
       "      <td>Not Socially Engaged</td>\n",
       "      <td>1472822034</td>\n",
       "      <td>1</td>\n",
       "      <td>1472822034</td>\n",
       "      <td>Chrome</td>\n",
       "      <td>not available in demo dataset</td>\n",
       "      <td>...</td>\n",
       "      <td>NaN</td>\n",
       "      <td>NaN</td>\n",
       "      <td>NaN</td>\n",
       "      <td>NaN</td>\n",
       "      <td>(not set)</td>\n",
       "      <td>NaN</td>\n",
       "      <td>(not provided)</td>\n",
       "      <td>organic</td>\n",
       "      <td>NaN</td>\n",
       "      <td>google</td>\n",
       "    </tr>\n",
       "  </tbody>\n",
       "</table>\n",
       "<p>5 rows × 54 columns</p>\n",
       "</div>"
      ],
      "text/plain": [
       "  channelGrouping      date        fullVisitorId  \\\n",
       "0  Organic Search  20160902  3895546263509774583   \n",
       "1  Organic Search  20160902    27294437909732085   \n",
       "2  Organic Search  20160902  2222266935962032743   \n",
       "3  Organic Search  20160902  6035953832076917545   \n",
       "4  Organic Search  20160902   542217492398994444   \n",
       "\n",
       "                        sessionId  socialEngagementType     visitId  \\\n",
       "0  3895546263509774583_1472865386  Not Socially Engaged  1472865386   \n",
       "1    27294437909732085_1472822600  Not Socially Engaged  1472822600   \n",
       "2  2222266935962032743_1472826820  Not Socially Engaged  1472826820   \n",
       "3  6035953832076917545_1472811667  Not Socially Engaged  1472811667   \n",
       "4   542217492398994444_1472822034  Not Socially Engaged  1472822034   \n",
       "\n",
       "   visitNumber  visitStartTime     device.browser  \\\n",
       "0            1      1472865386             Chrome   \n",
       "1            2      1472822600             Chrome   \n",
       "2            1      1472826820  Internet Explorer   \n",
       "3            1      1472811667             Chrome   \n",
       "4            1      1472822034             Chrome   \n",
       "\n",
       "              device.browserSize         ...           \\\n",
       "0  not available in demo dataset         ...            \n",
       "1  not available in demo dataset         ...            \n",
       "2  not available in demo dataset         ...            \n",
       "3  not available in demo dataset         ...            \n",
       "4  not available in demo dataset         ...            \n",
       "\n",
       "  trafficSource.adwordsClickInfo.gclId  \\\n",
       "0                                  NaN   \n",
       "1                                  NaN   \n",
       "2                                  NaN   \n",
       "3                                  NaN   \n",
       "4                                  NaN   \n",
       "\n",
       "  trafficSource.adwordsClickInfo.isVideoAd  \\\n",
       "0                                      NaN   \n",
       "1                                      NaN   \n",
       "2                                      NaN   \n",
       "3                                      NaN   \n",
       "4                                      NaN   \n",
       "\n",
       "  trafficSource.adwordsClickInfo.page  trafficSource.adwordsClickInfo.slot  \\\n",
       "0                                 NaN                                  NaN   \n",
       "1                                 NaN                                  NaN   \n",
       "2                                 NaN                                  NaN   \n",
       "3                                 NaN                                  NaN   \n",
       "4                                 NaN                                  NaN   \n",
       "\n",
       "  trafficSource.campaign trafficSource.isTrueDirect trafficSource.keyword  \\\n",
       "0              (not set)                        NaN        (not provided)   \n",
       "1              (not set)                       True        (not provided)   \n",
       "2              (not set)                        NaN        (not provided)   \n",
       "3              (not set)                        NaN        (not provided)   \n",
       "4              (not set)                        NaN        (not provided)   \n",
       "\n",
       "  trafficSource.medium trafficSource.referralPath trafficSource.source  \n",
       "0              organic                        NaN               google  \n",
       "1              organic                        NaN               google  \n",
       "2              organic                        NaN               google  \n",
       "3              organic                        NaN               google  \n",
       "4              organic                        NaN               google  \n",
       "\n",
       "[5 rows x 54 columns]"
      ]
     },
     "execution_count": 5,
     "metadata": {},
     "output_type": "execute_result"
    }
   ],
   "source": [
    "df_train.head()"
   ]
  },
  {
   "cell_type": "markdown",
   "metadata": {},
   "source": [
    "## missing vlaues"
   ]
  },
  {
   "cell_type": "code",
   "execution_count": 6,
   "metadata": {},
   "outputs": [],
   "source": [
    "def missin_values(data):\n",
    "    total = data.isnull().sum().sort_values(ascending = False)\n",
    "    percent = (data.isnull().sum()/ data.isnull().count() * 100).sort_values(ascending = False)\n",
    "    df = pd.concat([total, percent], axis = 1, keys=['Total', 'Percent'])\n",
    "    \n",
    "    return df[~(df['Total'] == 0 )]"
   ]
  },
  {
   "cell_type": "code",
   "execution_count": 7,
   "metadata": {},
   "outputs": [
    {
     "data": {
      "text/html": [
       "<div>\n",
       "<style scoped>\n",
       "    .dataframe tbody tr th:only-of-type {\n",
       "        vertical-align: middle;\n",
       "    }\n",
       "\n",
       "    .dataframe tbody tr th {\n",
       "        vertical-align: top;\n",
       "    }\n",
       "\n",
       "    .dataframe thead th {\n",
       "        text-align: right;\n",
       "    }\n",
       "</style>\n",
       "<table border=\"1\" class=\"dataframe\">\n",
       "  <thead>\n",
       "    <tr style=\"text-align: right;\">\n",
       "      <th></th>\n",
       "      <th>Total</th>\n",
       "      <th>Percent</th>\n",
       "    </tr>\n",
       "  </thead>\n",
       "  <tbody>\n",
       "    <tr>\n",
       "      <th>trafficSource.adContent</th>\n",
       "      <td>89451</td>\n",
       "      <td>98.751408</td>\n",
       "    </tr>\n",
       "    <tr>\n",
       "      <th>totals.transactionRevenue</th>\n",
       "      <td>89415</td>\n",
       "      <td>98.711665</td>\n",
       "    </tr>\n",
       "    <tr>\n",
       "      <th>trafficSource.adwordsClickInfo.adNetworkType</th>\n",
       "      <td>88386</td>\n",
       "      <td>97.575677</td>\n",
       "    </tr>\n",
       "    <tr>\n",
       "      <th>trafficSource.adwordsClickInfo.slot</th>\n",
       "      <td>88386</td>\n",
       "      <td>97.575677</td>\n",
       "    </tr>\n",
       "    <tr>\n",
       "      <th>trafficSource.adwordsClickInfo.page</th>\n",
       "      <td>88386</td>\n",
       "      <td>97.575677</td>\n",
       "    </tr>\n",
       "    <tr>\n",
       "      <th>trafficSource.adwordsClickInfo.isVideoAd</th>\n",
       "      <td>88386</td>\n",
       "      <td>97.575677</td>\n",
       "    </tr>\n",
       "    <tr>\n",
       "      <th>trafficSource.adwordsClickInfo.gclId</th>\n",
       "      <td>88373</td>\n",
       "      <td>97.561326</td>\n",
       "    </tr>\n",
       "    <tr>\n",
       "      <th>trafficSource.isTrueDirect</th>\n",
       "      <td>63181</td>\n",
       "      <td>69.750061</td>\n",
       "    </tr>\n",
       "    <tr>\n",
       "      <th>trafficSource.referralPath</th>\n",
       "      <td>57370</td>\n",
       "      <td>63.334879</td>\n",
       "    </tr>\n",
       "    <tr>\n",
       "      <th>trafficSource.keyword</th>\n",
       "      <td>50290</td>\n",
       "      <td>55.518756</td>\n",
       "    </tr>\n",
       "    <tr>\n",
       "      <th>totals.bounces</th>\n",
       "      <td>45194</td>\n",
       "      <td>49.892915</td>\n",
       "    </tr>\n",
       "    <tr>\n",
       "      <th>totals.newVisits</th>\n",
       "      <td>20112</td>\n",
       "      <td>22.203087</td>\n",
       "    </tr>\n",
       "    <tr>\n",
       "      <th>totals.pageviews</th>\n",
       "      <td>6</td>\n",
       "      <td>0.006624</td>\n",
       "    </tr>\n",
       "  </tbody>\n",
       "</table>\n",
       "</div>"
      ],
      "text/plain": [
       "                                              Total    Percent\n",
       "trafficSource.adContent                       89451  98.751408\n",
       "totals.transactionRevenue                     89415  98.711665\n",
       "trafficSource.adwordsClickInfo.adNetworkType  88386  97.575677\n",
       "trafficSource.adwordsClickInfo.slot           88386  97.575677\n",
       "trafficSource.adwordsClickInfo.page           88386  97.575677\n",
       "trafficSource.adwordsClickInfo.isVideoAd      88386  97.575677\n",
       "trafficSource.adwordsClickInfo.gclId          88373  97.561326\n",
       "trafficSource.isTrueDirect                    63181  69.750061\n",
       "trafficSource.referralPath                    57370  63.334879\n",
       "trafficSource.keyword                         50290  55.518756\n",
       "totals.bounces                                45194  49.892915\n",
       "totals.newVisits                              20112  22.203087\n",
       "totals.pageviews                                  6   0.006624"
      ]
     },
     "execution_count": 7,
     "metadata": {},
     "output_type": "execute_result"
    }
   ],
   "source": [
    "missin_values(df_train)"
   ]
  },
  {
   "cell_type": "code",
   "execution_count": 8,
   "metadata": {},
   "outputs": [
    {
     "name": "stdout",
     "output_type": "stream",
     "text": [
      "<class 'pandas.core.frame.DataFrame'>\n",
      "RangeIndex: 90582 entries, 0 to 90581\n",
      "Data columns (total 54 columns):\n",
      "channelGrouping                                      90582 non-null object\n",
      "date                                                 90582 non-null int64\n",
      "fullVisitorId                                        90582 non-null object\n",
      "sessionId                                            90582 non-null object\n",
      "socialEngagementType                                 90582 non-null object\n",
      "visitId                                              90582 non-null int64\n",
      "visitNumber                                          90582 non-null int64\n",
      "visitStartTime                                       90582 non-null int64\n",
      "device.browser                                       90582 non-null object\n",
      "device.browserSize                                   90582 non-null object\n",
      "device.browserVersion                                90582 non-null object\n",
      "device.deviceCategory                                90582 non-null object\n",
      "device.flashVersion                                  90582 non-null object\n",
      "device.isMobile                                      90582 non-null bool\n",
      "device.language                                      90582 non-null object\n",
      "device.mobileDeviceBranding                          90582 non-null object\n",
      "device.mobileDeviceInfo                              90582 non-null object\n",
      "device.mobileDeviceMarketingName                     90582 non-null object\n",
      "device.mobileDeviceModel                             90582 non-null object\n",
      "device.mobileInputSelector                           90582 non-null object\n",
      "device.operatingSystem                               90582 non-null object\n",
      "device.operatingSystemVersion                        90582 non-null object\n",
      "device.screenColors                                  90582 non-null object\n",
      "device.screenResolution                              90582 non-null object\n",
      "geoNetwork.city                                      90582 non-null object\n",
      "geoNetwork.cityId                                    90582 non-null object\n",
      "geoNetwork.continent                                 90582 non-null object\n",
      "geoNetwork.country                                   90582 non-null object\n",
      "geoNetwork.latitude                                  90582 non-null object\n",
      "geoNetwork.longitude                                 90582 non-null object\n",
      "geoNetwork.metro                                     90582 non-null object\n",
      "geoNetwork.networkDomain                             90582 non-null object\n",
      "geoNetwork.networkLocation                           90582 non-null object\n",
      "geoNetwork.region                                    90582 non-null object\n",
      "geoNetwork.subContinent                              90582 non-null object\n",
      "totals.bounces                                       45388 non-null object\n",
      "totals.hits                                          90582 non-null object\n",
      "totals.newVisits                                     70470 non-null object\n",
      "totals.pageviews                                     90576 non-null object\n",
      "totals.transactionRevenue                            1167 non-null object\n",
      "totals.visits                                        90582 non-null object\n",
      "trafficSource.adContent                              1131 non-null object\n",
      "trafficSource.adwordsClickInfo.adNetworkType         2196 non-null object\n",
      "trafficSource.adwordsClickInfo.criteriaParameters    90582 non-null object\n",
      "trafficSource.adwordsClickInfo.gclId                 2209 non-null object\n",
      "trafficSource.adwordsClickInfo.isVideoAd             2196 non-null object\n",
      "trafficSource.adwordsClickInfo.page                  2196 non-null object\n",
      "trafficSource.adwordsClickInfo.slot                  2196 non-null object\n",
      "trafficSource.campaign                               90582 non-null object\n",
      "trafficSource.isTrueDirect                           27401 non-null object\n",
      "trafficSource.keyword                                40292 non-null object\n",
      "trafficSource.medium                                 90582 non-null object\n",
      "trafficSource.referralPath                           33212 non-null object\n",
      "trafficSource.source                                 90582 non-null object\n",
      "dtypes: bool(1), int64(4), object(49)\n",
      "memory usage: 36.7+ MB\n",
      "None\n"
     ]
    }
   ],
   "source": [
    "print(df_train.info())"
   ]
  },
  {
   "cell_type": "code",
   "execution_count": 9,
   "metadata": {},
   "outputs": [
    {
     "data": {
      "text/html": [
       "<div>\n",
       "<style scoped>\n",
       "    .dataframe tbody tr th:only-of-type {\n",
       "        vertical-align: middle;\n",
       "    }\n",
       "\n",
       "    .dataframe tbody tr th {\n",
       "        vertical-align: top;\n",
       "    }\n",
       "\n",
       "    .dataframe thead th {\n",
       "        text-align: right;\n",
       "    }\n",
       "</style>\n",
       "<table border=\"1\" class=\"dataframe\">\n",
       "  <thead>\n",
       "    <tr style=\"text-align: right;\">\n",
       "      <th></th>\n",
       "      <th>channelGrouping</th>\n",
       "      <th>date</th>\n",
       "      <th>fullVisitorId</th>\n",
       "      <th>sessionId</th>\n",
       "      <th>socialEngagementType</th>\n",
       "      <th>visitId</th>\n",
       "      <th>visitNumber</th>\n",
       "      <th>visitStartTime</th>\n",
       "      <th>device.browser</th>\n",
       "      <th>device.browserSize</th>\n",
       "      <th>...</th>\n",
       "      <th>trafficSource.adwordsClickInfo.gclId</th>\n",
       "      <th>trafficSource.adwordsClickInfo.isVideoAd</th>\n",
       "      <th>trafficSource.adwordsClickInfo.page</th>\n",
       "      <th>trafficSource.adwordsClickInfo.slot</th>\n",
       "      <th>trafficSource.campaign</th>\n",
       "      <th>trafficSource.isTrueDirect</th>\n",
       "      <th>trafficSource.keyword</th>\n",
       "      <th>trafficSource.medium</th>\n",
       "      <th>trafficSource.referralPath</th>\n",
       "      <th>trafficSource.source</th>\n",
       "    </tr>\n",
       "  </thead>\n",
       "  <tbody>\n",
       "    <tr>\n",
       "      <th>0</th>\n",
       "      <td>Organic Search</td>\n",
       "      <td>20160902</td>\n",
       "      <td>3895546263509774583</td>\n",
       "      <td>3895546263509774583_1472865386</td>\n",
       "      <td>Not Socially Engaged</td>\n",
       "      <td>1472865386</td>\n",
       "      <td>1</td>\n",
       "      <td>1472865386</td>\n",
       "      <td>Chrome</td>\n",
       "      <td>not available in demo dataset</td>\n",
       "      <td>...</td>\n",
       "      <td>NaN</td>\n",
       "      <td>NaN</td>\n",
       "      <td>NaN</td>\n",
       "      <td>NaN</td>\n",
       "      <td>(not set)</td>\n",
       "      <td>NaN</td>\n",
       "      <td>(not provided)</td>\n",
       "      <td>organic</td>\n",
       "      <td>NaN</td>\n",
       "      <td>google</td>\n",
       "    </tr>\n",
       "    <tr>\n",
       "      <th>1</th>\n",
       "      <td>Organic Search</td>\n",
       "      <td>20160902</td>\n",
       "      <td>27294437909732085</td>\n",
       "      <td>27294437909732085_1472822600</td>\n",
       "      <td>Not Socially Engaged</td>\n",
       "      <td>1472822600</td>\n",
       "      <td>2</td>\n",
       "      <td>1472822600</td>\n",
       "      <td>Chrome</td>\n",
       "      <td>not available in demo dataset</td>\n",
       "      <td>...</td>\n",
       "      <td>NaN</td>\n",
       "      <td>NaN</td>\n",
       "      <td>NaN</td>\n",
       "      <td>NaN</td>\n",
       "      <td>(not set)</td>\n",
       "      <td>True</td>\n",
       "      <td>(not provided)</td>\n",
       "      <td>organic</td>\n",
       "      <td>NaN</td>\n",
       "      <td>google</td>\n",
       "    </tr>\n",
       "    <tr>\n",
       "      <th>2</th>\n",
       "      <td>Organic Search</td>\n",
       "      <td>20160902</td>\n",
       "      <td>2222266935962032743</td>\n",
       "      <td>2222266935962032743_1472826820</td>\n",
       "      <td>Not Socially Engaged</td>\n",
       "      <td>1472826820</td>\n",
       "      <td>1</td>\n",
       "      <td>1472826820</td>\n",
       "      <td>Internet Explorer</td>\n",
       "      <td>not available in demo dataset</td>\n",
       "      <td>...</td>\n",
       "      <td>NaN</td>\n",
       "      <td>NaN</td>\n",
       "      <td>NaN</td>\n",
       "      <td>NaN</td>\n",
       "      <td>(not set)</td>\n",
       "      <td>NaN</td>\n",
       "      <td>(not provided)</td>\n",
       "      <td>organic</td>\n",
       "      <td>NaN</td>\n",
       "      <td>google</td>\n",
       "    </tr>\n",
       "    <tr>\n",
       "      <th>3</th>\n",
       "      <td>Organic Search</td>\n",
       "      <td>20160902</td>\n",
       "      <td>6035953832076917545</td>\n",
       "      <td>6035953832076917545_1472811667</td>\n",
       "      <td>Not Socially Engaged</td>\n",
       "      <td>1472811667</td>\n",
       "      <td>1</td>\n",
       "      <td>1472811667</td>\n",
       "      <td>Chrome</td>\n",
       "      <td>not available in demo dataset</td>\n",
       "      <td>...</td>\n",
       "      <td>NaN</td>\n",
       "      <td>NaN</td>\n",
       "      <td>NaN</td>\n",
       "      <td>NaN</td>\n",
       "      <td>(not set)</td>\n",
       "      <td>NaN</td>\n",
       "      <td>(not provided)</td>\n",
       "      <td>organic</td>\n",
       "      <td>NaN</td>\n",
       "      <td>google</td>\n",
       "    </tr>\n",
       "    <tr>\n",
       "      <th>4</th>\n",
       "      <td>Organic Search</td>\n",
       "      <td>20160902</td>\n",
       "      <td>542217492398994444</td>\n",
       "      <td>542217492398994444_1472822034</td>\n",
       "      <td>Not Socially Engaged</td>\n",
       "      <td>1472822034</td>\n",
       "      <td>1</td>\n",
       "      <td>1472822034</td>\n",
       "      <td>Chrome</td>\n",
       "      <td>not available in demo dataset</td>\n",
       "      <td>...</td>\n",
       "      <td>NaN</td>\n",
       "      <td>NaN</td>\n",
       "      <td>NaN</td>\n",
       "      <td>NaN</td>\n",
       "      <td>(not set)</td>\n",
       "      <td>NaN</td>\n",
       "      <td>(not provided)</td>\n",
       "      <td>organic</td>\n",
       "      <td>NaN</td>\n",
       "      <td>google</td>\n",
       "    </tr>\n",
       "  </tbody>\n",
       "</table>\n",
       "<p>5 rows × 54 columns</p>\n",
       "</div>"
      ],
      "text/plain": [
       "  channelGrouping      date        fullVisitorId  \\\n",
       "0  Organic Search  20160902  3895546263509774583   \n",
       "1  Organic Search  20160902    27294437909732085   \n",
       "2  Organic Search  20160902  2222266935962032743   \n",
       "3  Organic Search  20160902  6035953832076917545   \n",
       "4  Organic Search  20160902   542217492398994444   \n",
       "\n",
       "                        sessionId  socialEngagementType     visitId  \\\n",
       "0  3895546263509774583_1472865386  Not Socially Engaged  1472865386   \n",
       "1    27294437909732085_1472822600  Not Socially Engaged  1472822600   \n",
       "2  2222266935962032743_1472826820  Not Socially Engaged  1472826820   \n",
       "3  6035953832076917545_1472811667  Not Socially Engaged  1472811667   \n",
       "4   542217492398994444_1472822034  Not Socially Engaged  1472822034   \n",
       "\n",
       "   visitNumber  visitStartTime     device.browser  \\\n",
       "0            1      1472865386             Chrome   \n",
       "1            2      1472822600             Chrome   \n",
       "2            1      1472826820  Internet Explorer   \n",
       "3            1      1472811667             Chrome   \n",
       "4            1      1472822034             Chrome   \n",
       "\n",
       "              device.browserSize         ...           \\\n",
       "0  not available in demo dataset         ...            \n",
       "1  not available in demo dataset         ...            \n",
       "2  not available in demo dataset         ...            \n",
       "3  not available in demo dataset         ...            \n",
       "4  not available in demo dataset         ...            \n",
       "\n",
       "  trafficSource.adwordsClickInfo.gclId  \\\n",
       "0                                  NaN   \n",
       "1                                  NaN   \n",
       "2                                  NaN   \n",
       "3                                  NaN   \n",
       "4                                  NaN   \n",
       "\n",
       "  trafficSource.adwordsClickInfo.isVideoAd  \\\n",
       "0                                      NaN   \n",
       "1                                      NaN   \n",
       "2                                      NaN   \n",
       "3                                      NaN   \n",
       "4                                      NaN   \n",
       "\n",
       "  trafficSource.adwordsClickInfo.page  trafficSource.adwordsClickInfo.slot  \\\n",
       "0                                 NaN                                  NaN   \n",
       "1                                 NaN                                  NaN   \n",
       "2                                 NaN                                  NaN   \n",
       "3                                 NaN                                  NaN   \n",
       "4                                 NaN                                  NaN   \n",
       "\n",
       "  trafficSource.campaign trafficSource.isTrueDirect trafficSource.keyword  \\\n",
       "0              (not set)                        NaN        (not provided)   \n",
       "1              (not set)                       True        (not provided)   \n",
       "2              (not set)                        NaN        (not provided)   \n",
       "3              (not set)                        NaN        (not provided)   \n",
       "4              (not set)                        NaN        (not provided)   \n",
       "\n",
       "  trafficSource.medium trafficSource.referralPath trafficSource.source  \n",
       "0              organic                        NaN               google  \n",
       "1              organic                        NaN               google  \n",
       "2              organic                        NaN               google  \n",
       "3              organic                        NaN               google  \n",
       "4              organic                        NaN               google  \n",
       "\n",
       "[5 rows x 54 columns]"
      ]
     },
     "execution_count": 9,
     "metadata": {},
     "output_type": "execute_result"
    }
   ],
   "source": [
    "df_train.head()"
   ]
  },
  {
   "cell_type": "code",
   "execution_count": 10,
   "metadata": {},
   "outputs": [],
   "source": [
    "from datetime import datetime"
   ]
  },
  {
   "cell_type": "code",
   "execution_count": 11,
   "metadata": {},
   "outputs": [],
   "source": [
    "def date_process(df):\n",
    "    df['date'] = df['date'].astype(str)\n",
    "    df['date'] = df['date'].apply(lambda x : x[:4] + \"-\" + x[4:6] + \"-\" + x[6:])\n",
    "    \n",
    "    \n",
    "    \n",
    "    df['date'] = pd.to_datetime(df['date'])\n",
    "    df['_weekday'] = df['date'].dt.weekday\n",
    "    df['_day'] = df['date'].dt.day\n",
    "    df['_month'] = df['date'].dt.month\n",
    "    df['_year'] = df['date'].dt.year\n",
    "    df['_visitHour'] = df['visitStartTime'].apply(lambda x: str(datetime.fromtimestamp(x).hour))\n",
    "\n",
    "\n",
    "    \n",
    "    return df"
   ]
  },
  {
   "cell_type": "code",
   "execution_count": 12,
   "metadata": {},
   "outputs": [
    {
     "data": {
      "text/html": [
       "<div>\n",
       "<style scoped>\n",
       "    .dataframe tbody tr th:only-of-type {\n",
       "        vertical-align: middle;\n",
       "    }\n",
       "\n",
       "    .dataframe tbody tr th {\n",
       "        vertical-align: top;\n",
       "    }\n",
       "\n",
       "    .dataframe thead th {\n",
       "        text-align: right;\n",
       "    }\n",
       "</style>\n",
       "<table border=\"1\" class=\"dataframe\">\n",
       "  <thead>\n",
       "    <tr style=\"text-align: right;\">\n",
       "      <th></th>\n",
       "      <th>channelGrouping</th>\n",
       "      <th>date</th>\n",
       "      <th>fullVisitorId</th>\n",
       "      <th>sessionId</th>\n",
       "      <th>socialEngagementType</th>\n",
       "      <th>visitId</th>\n",
       "      <th>visitNumber</th>\n",
       "      <th>visitStartTime</th>\n",
       "      <th>device.browser</th>\n",
       "      <th>device.browserSize</th>\n",
       "      <th>...</th>\n",
       "      <th>trafficSource.isTrueDirect</th>\n",
       "      <th>trafficSource.keyword</th>\n",
       "      <th>trafficSource.medium</th>\n",
       "      <th>trafficSource.referralPath</th>\n",
       "      <th>trafficSource.source</th>\n",
       "      <th>_weekday</th>\n",
       "      <th>_day</th>\n",
       "      <th>_month</th>\n",
       "      <th>_year</th>\n",
       "      <th>_visitHour</th>\n",
       "    </tr>\n",
       "  </thead>\n",
       "  <tbody>\n",
       "    <tr>\n",
       "      <th>0</th>\n",
       "      <td>Organic Search</td>\n",
       "      <td>2016-09-02</td>\n",
       "      <td>3895546263509774583</td>\n",
       "      <td>3895546263509774583_1472865386</td>\n",
       "      <td>Not Socially Engaged</td>\n",
       "      <td>1472865386</td>\n",
       "      <td>1</td>\n",
       "      <td>1472865386</td>\n",
       "      <td>Chrome</td>\n",
       "      <td>not available in demo dataset</td>\n",
       "      <td>...</td>\n",
       "      <td>NaN</td>\n",
       "      <td>(not provided)</td>\n",
       "      <td>organic</td>\n",
       "      <td>NaN</td>\n",
       "      <td>google</td>\n",
       "      <td>4</td>\n",
       "      <td>2</td>\n",
       "      <td>9</td>\n",
       "      <td>2016</td>\n",
       "      <td>10</td>\n",
       "    </tr>\n",
       "    <tr>\n",
       "      <th>1</th>\n",
       "      <td>Organic Search</td>\n",
       "      <td>2016-09-02</td>\n",
       "      <td>27294437909732085</td>\n",
       "      <td>27294437909732085_1472822600</td>\n",
       "      <td>Not Socially Engaged</td>\n",
       "      <td>1472822600</td>\n",
       "      <td>2</td>\n",
       "      <td>1472822600</td>\n",
       "      <td>Chrome</td>\n",
       "      <td>not available in demo dataset</td>\n",
       "      <td>...</td>\n",
       "      <td>True</td>\n",
       "      <td>(not provided)</td>\n",
       "      <td>organic</td>\n",
       "      <td>NaN</td>\n",
       "      <td>google</td>\n",
       "      <td>4</td>\n",
       "      <td>2</td>\n",
       "      <td>9</td>\n",
       "      <td>2016</td>\n",
       "      <td>22</td>\n",
       "    </tr>\n",
       "  </tbody>\n",
       "</table>\n",
       "<p>2 rows × 59 columns</p>\n",
       "</div>"
      ],
      "text/plain": [
       "  channelGrouping       date        fullVisitorId  \\\n",
       "0  Organic Search 2016-09-02  3895546263509774583   \n",
       "1  Organic Search 2016-09-02    27294437909732085   \n",
       "\n",
       "                        sessionId  socialEngagementType     visitId  \\\n",
       "0  3895546263509774583_1472865386  Not Socially Engaged  1472865386   \n",
       "1    27294437909732085_1472822600  Not Socially Engaged  1472822600   \n",
       "\n",
       "   visitNumber  visitStartTime device.browser             device.browserSize  \\\n",
       "0            1      1472865386         Chrome  not available in demo dataset   \n",
       "1            2      1472822600         Chrome  not available in demo dataset   \n",
       "\n",
       "     ...     trafficSource.isTrueDirect trafficSource.keyword  \\\n",
       "0    ...                            NaN        (not provided)   \n",
       "1    ...                           True        (not provided)   \n",
       "\n",
       "  trafficSource.medium  trafficSource.referralPath trafficSource.source  \\\n",
       "0              organic                         NaN               google   \n",
       "1              organic                         NaN               google   \n",
       "\n",
       "  _weekday _day _month _year _visitHour  \n",
       "0        4    2      9  2016         10  \n",
       "1        4    2      9  2016         22  \n",
       "\n",
       "[2 rows x 59 columns]"
      ]
     },
     "execution_count": 12,
     "metadata": {},
     "output_type": "execute_result"
    }
   ],
   "source": [
    "df_train = date_process(df_train)\n",
    "df_train.head(2)"
   ]
  },
  {
   "cell_type": "markdown",
   "metadata": {},
   "source": [
    "## Numeric value attention"
   ]
  },
  {
   "cell_type": "code",
   "execution_count": 13,
   "metadata": {},
   "outputs": [],
   "source": [
    "from sklearn import preprocessing"
   ]
  },
  {
   "cell_type": "code",
   "execution_count": 14,
   "metadata": {},
   "outputs": [],
   "source": [
    "# trafficSource.adContent\t89455\t98.750373\n",
    "# totals.transactionRevenue\t89402\t98.691865\n",
    "# trafficSource.adwordsClickInfo.adNetworkType\t88401\t97.586850\n",
    "# trafficSource.adwordsClickInfo.slot\t88401\t97.586850\n",
    "# trafficSource.adwordsClickInfo.page\t88401\t97.586850\n",
    "# trafficSource.adwordsClickInfo.isVideoAd\t88401\t97.586850\n",
    "# trafficSource.adwordsClickInfo.gclId\t88395\t97.580227\n",
    "# trafficSource.isTrueDirect\t63296\t69.873161\n",
    "# trafficSource.referralPath\t57550\t63.530087\n",
    "# trafficSource.keyword\t50260\t55.482575\n",
    "# totals.bounces\t45692\t50.439909\n",
    "# totals.newVisits\t19896\t21.963416\n",
    "# totals.pageviews\t12\t0.013247"
   ]
  },
  {
   "cell_type": "code",
   "execution_count": 15,
   "metadata": {},
   "outputs": [],
   "source": [
    "def num_treat(df):\n",
    "    df['totals.pageviews'] .fillna(1, inplace = True)\n",
    "    df['totals.newVisits'] .fillna(0, inplace = True)\n",
    "    df['totals.bounces'] .fillna(0, inplace = True)\n",
    "    df['totals.pageviews']  = df['totals.pageviews'].astype(int)\n",
    "    df['totals.newVisits']  = df['totals.newVisits'].astype(int)\n",
    "    df['totals.bounces']  = df['totals.bounces'].astype(int)\n",
    "    \n",
    "    df['trafficSource.isTrueDirect'].fillna(False, inplace =True)\n",
    "    return df"
   ]
  },
  {
   "cell_type": "code",
   "execution_count": null,
   "metadata": {},
   "outputs": [],
   "source": [
    "\n",
    "    "
   ]
  },
  {
   "cell_type": "code",
   "execution_count": 16,
   "metadata": {},
   "outputs": [],
   "source": [
    "df_train = num_treat(df_train)"
   ]
  },
  {
   "cell_type": "code",
   "execution_count": 17,
   "metadata": {},
   "outputs": [
    {
     "data": {
      "text/html": [
       "<div>\n",
       "<style scoped>\n",
       "    .dataframe tbody tr th:only-of-type {\n",
       "        vertical-align: middle;\n",
       "    }\n",
       "\n",
       "    .dataframe tbody tr th {\n",
       "        vertical-align: top;\n",
       "    }\n",
       "\n",
       "    .dataframe thead th {\n",
       "        text-align: right;\n",
       "    }\n",
       "</style>\n",
       "<table border=\"1\" class=\"dataframe\">\n",
       "  <thead>\n",
       "    <tr style=\"text-align: right;\">\n",
       "      <th></th>\n",
       "      <th>channelGrouping</th>\n",
       "      <th>date</th>\n",
       "      <th>fullVisitorId</th>\n",
       "      <th>sessionId</th>\n",
       "      <th>socialEngagementType</th>\n",
       "      <th>visitId</th>\n",
       "      <th>visitNumber</th>\n",
       "      <th>visitStartTime</th>\n",
       "      <th>device.browser</th>\n",
       "      <th>device.browserSize</th>\n",
       "      <th>...</th>\n",
       "      <th>trafficSource.isTrueDirect</th>\n",
       "      <th>trafficSource.keyword</th>\n",
       "      <th>trafficSource.medium</th>\n",
       "      <th>trafficSource.referralPath</th>\n",
       "      <th>trafficSource.source</th>\n",
       "      <th>_weekday</th>\n",
       "      <th>_day</th>\n",
       "      <th>_month</th>\n",
       "      <th>_year</th>\n",
       "      <th>_visitHour</th>\n",
       "    </tr>\n",
       "  </thead>\n",
       "  <tbody>\n",
       "    <tr>\n",
       "      <th>0</th>\n",
       "      <td>Organic Search</td>\n",
       "      <td>2016-09-02</td>\n",
       "      <td>3895546263509774583</td>\n",
       "      <td>3895546263509774583_1472865386</td>\n",
       "      <td>Not Socially Engaged</td>\n",
       "      <td>1472865386</td>\n",
       "      <td>1</td>\n",
       "      <td>1472865386</td>\n",
       "      <td>Chrome</td>\n",
       "      <td>not available in demo dataset</td>\n",
       "      <td>...</td>\n",
       "      <td>False</td>\n",
       "      <td>(not provided)</td>\n",
       "      <td>organic</td>\n",
       "      <td>NaN</td>\n",
       "      <td>google</td>\n",
       "      <td>4</td>\n",
       "      <td>2</td>\n",
       "      <td>9</td>\n",
       "      <td>2016</td>\n",
       "      <td>10</td>\n",
       "    </tr>\n",
       "    <tr>\n",
       "      <th>1</th>\n",
       "      <td>Organic Search</td>\n",
       "      <td>2016-09-02</td>\n",
       "      <td>27294437909732085</td>\n",
       "      <td>27294437909732085_1472822600</td>\n",
       "      <td>Not Socially Engaged</td>\n",
       "      <td>1472822600</td>\n",
       "      <td>2</td>\n",
       "      <td>1472822600</td>\n",
       "      <td>Chrome</td>\n",
       "      <td>not available in demo dataset</td>\n",
       "      <td>...</td>\n",
       "      <td>True</td>\n",
       "      <td>(not provided)</td>\n",
       "      <td>organic</td>\n",
       "      <td>NaN</td>\n",
       "      <td>google</td>\n",
       "      <td>4</td>\n",
       "      <td>2</td>\n",
       "      <td>9</td>\n",
       "      <td>2016</td>\n",
       "      <td>22</td>\n",
       "    </tr>\n",
       "    <tr>\n",
       "      <th>2</th>\n",
       "      <td>Organic Search</td>\n",
       "      <td>2016-09-02</td>\n",
       "      <td>2222266935962032743</td>\n",
       "      <td>2222266935962032743_1472826820</td>\n",
       "      <td>Not Socially Engaged</td>\n",
       "      <td>1472826820</td>\n",
       "      <td>1</td>\n",
       "      <td>1472826820</td>\n",
       "      <td>Internet Explorer</td>\n",
       "      <td>not available in demo dataset</td>\n",
       "      <td>...</td>\n",
       "      <td>False</td>\n",
       "      <td>(not provided)</td>\n",
       "      <td>organic</td>\n",
       "      <td>NaN</td>\n",
       "      <td>google</td>\n",
       "      <td>4</td>\n",
       "      <td>2</td>\n",
       "      <td>9</td>\n",
       "      <td>2016</td>\n",
       "      <td>23</td>\n",
       "    </tr>\n",
       "    <tr>\n",
       "      <th>3</th>\n",
       "      <td>Organic Search</td>\n",
       "      <td>2016-09-02</td>\n",
       "      <td>6035953832076917545</td>\n",
       "      <td>6035953832076917545_1472811667</td>\n",
       "      <td>Not Socially Engaged</td>\n",
       "      <td>1472811667</td>\n",
       "      <td>1</td>\n",
       "      <td>1472811667</td>\n",
       "      <td>Chrome</td>\n",
       "      <td>not available in demo dataset</td>\n",
       "      <td>...</td>\n",
       "      <td>False</td>\n",
       "      <td>(not provided)</td>\n",
       "      <td>organic</td>\n",
       "      <td>NaN</td>\n",
       "      <td>google</td>\n",
       "      <td>4</td>\n",
       "      <td>2</td>\n",
       "      <td>9</td>\n",
       "      <td>2016</td>\n",
       "      <td>19</td>\n",
       "    </tr>\n",
       "    <tr>\n",
       "      <th>4</th>\n",
       "      <td>Organic Search</td>\n",
       "      <td>2016-09-02</td>\n",
       "      <td>542217492398994444</td>\n",
       "      <td>542217492398994444_1472822034</td>\n",
       "      <td>Not Socially Engaged</td>\n",
       "      <td>1472822034</td>\n",
       "      <td>1</td>\n",
       "      <td>1472822034</td>\n",
       "      <td>Chrome</td>\n",
       "      <td>not available in demo dataset</td>\n",
       "      <td>...</td>\n",
       "      <td>False</td>\n",
       "      <td>(not provided)</td>\n",
       "      <td>organic</td>\n",
       "      <td>NaN</td>\n",
       "      <td>google</td>\n",
       "      <td>4</td>\n",
       "      <td>2</td>\n",
       "      <td>9</td>\n",
       "      <td>2016</td>\n",
       "      <td>22</td>\n",
       "    </tr>\n",
       "  </tbody>\n",
       "</table>\n",
       "<p>5 rows × 59 columns</p>\n",
       "</div>"
      ],
      "text/plain": [
       "  channelGrouping       date        fullVisitorId  \\\n",
       "0  Organic Search 2016-09-02  3895546263509774583   \n",
       "1  Organic Search 2016-09-02    27294437909732085   \n",
       "2  Organic Search 2016-09-02  2222266935962032743   \n",
       "3  Organic Search 2016-09-02  6035953832076917545   \n",
       "4  Organic Search 2016-09-02   542217492398994444   \n",
       "\n",
       "                        sessionId  socialEngagementType     visitId  \\\n",
       "0  3895546263509774583_1472865386  Not Socially Engaged  1472865386   \n",
       "1    27294437909732085_1472822600  Not Socially Engaged  1472822600   \n",
       "2  2222266935962032743_1472826820  Not Socially Engaged  1472826820   \n",
       "3  6035953832076917545_1472811667  Not Socially Engaged  1472811667   \n",
       "4   542217492398994444_1472822034  Not Socially Engaged  1472822034   \n",
       "\n",
       "   visitNumber  visitStartTime     device.browser  \\\n",
       "0            1      1472865386             Chrome   \n",
       "1            2      1472822600             Chrome   \n",
       "2            1      1472826820  Internet Explorer   \n",
       "3            1      1472811667             Chrome   \n",
       "4            1      1472822034             Chrome   \n",
       "\n",
       "              device.browserSize    ...     trafficSource.isTrueDirect  \\\n",
       "0  not available in demo dataset    ...                          False   \n",
       "1  not available in demo dataset    ...                           True   \n",
       "2  not available in demo dataset    ...                          False   \n",
       "3  not available in demo dataset    ...                          False   \n",
       "4  not available in demo dataset    ...                          False   \n",
       "\n",
       "  trafficSource.keyword trafficSource.medium  trafficSource.referralPath  \\\n",
       "0        (not provided)              organic                         NaN   \n",
       "1        (not provided)              organic                         NaN   \n",
       "2        (not provided)              organic                         NaN   \n",
       "3        (not provided)              organic                         NaN   \n",
       "4        (not provided)              organic                         NaN   \n",
       "\n",
       "  trafficSource.source _weekday _day _month _year _visitHour  \n",
       "0               google        4    2      9  2016         10  \n",
       "1               google        4    2      9  2016         22  \n",
       "2               google        4    2      9  2016         23  \n",
       "3               google        4    2      9  2016         19  \n",
       "4               google        4    2      9  2016         22  \n",
       "\n",
       "[5 rows x 59 columns]"
      ]
     },
     "execution_count": 17,
     "metadata": {},
     "output_type": "execute_result"
    }
   ],
   "source": [
    "df_train.head()"
   ]
  },
  {
   "cell_type": "markdown",
   "metadata": {},
   "source": [
    "### take off unique value (Just one value)"
   ]
  },
  {
   "cell_type": "code",
   "execution_count": 18,
   "metadata": {},
   "outputs": [
    {
     "data": {
      "text/plain": [
       "8"
      ]
     },
     "execution_count": 18,
     "metadata": {},
     "output_type": "execute_result"
    }
   ],
   "source": [
    "df_train['channelGrouping'].nunique()"
   ]
  },
  {
   "cell_type": "code",
   "execution_count": 19,
   "metadata": {},
   "outputs": [
    {
     "name": "stdout",
     "output_type": "stream",
     "text": [
      "This will drop :  21 columns\n",
      "Dropped columns : \n",
      " ['socialEngagementType', 'device.browserSize', 'device.browserVersion', 'device.flashVersion', 'device.language', 'device.mobileDeviceBranding', 'device.mobileDeviceInfo', 'device.mobileDeviceMarketingName', 'device.mobileDeviceModel', 'device.mobileInputSelector', 'device.operatingSystemVersion', 'device.screenColors', 'device.screenResolution', 'geoNetwork.cityId', 'geoNetwork.latitude', 'geoNetwork.longitude', 'geoNetwork.networkLocation', 'totals.visits', 'trafficSource.adwordsClickInfo.adNetworkType', 'trafficSource.adwordsClickInfo.criteriaParameters', 'trafficSource.adwordsClickInfo.isVideoAd']\n"
     ]
    }
   ],
   "source": [
    "clean_consts = [col for col in df_train.columns if df_train[col].nunique() == 1]\n",
    "\n",
    "df_train.drop(clean_consts, axis=1, inplace=True)\n",
    "\n",
    "print(\"This will drop : \", len(clean_consts), \"columns\")\n",
    "print(\"Dropped columns : \\n\", clean_consts)"
   ]
  },
  {
   "cell_type": "code",
   "execution_count": 20,
   "metadata": {},
   "outputs": [
    {
     "data": {
      "text/plain": [
       "channelGrouping                             8\n",
       "date                                      366\n",
       "fullVisitorId                           85970\n",
       "sessionId                               90573\n",
       "visitId                                 90393\n",
       "visitNumber                               216\n",
       "visitStartTime                          90402\n",
       "device.browser                             31\n",
       "device.deviceCategory                       3\n",
       "device.isMobile                             2\n",
       "device.operatingSystem                     15\n",
       "geoNetwork.city                           541\n",
       "geoNetwork.continent                        6\n",
       "geoNetwork.country                        189\n",
       "geoNetwork.metro                           82\n",
       "geoNetwork.networkDomain                 7139\n",
       "geoNetwork.region                         330\n",
       "geoNetwork.subContinent                    23\n",
       "totals.bounces                              2\n",
       "totals.hits                               164\n",
       "totals.newVisits                            2\n",
       "totals.pageviews                          128\n",
       "totals.transactionRevenue                 823\n",
       "trafficSource.adContent                    33\n",
       "trafficSource.adwordsClickInfo.gclId     2123\n",
       "trafficSource.adwordsClickInfo.page         2\n",
       "trafficSource.adwordsClickInfo.slot         2\n",
       "trafficSource.campaign                      9\n",
       "trafficSource.isTrueDirect                  2\n",
       "trafficSource.keyword                     627\n",
       "trafficSource.medium                        7\n",
       "trafficSource.referralPath                559\n",
       "trafficSource.source                      171\n",
       "_weekday                                    7\n",
       "_day                                       31\n",
       "_month                                     12\n",
       "_year                                       2\n",
       "_visitHour                                 24\n",
       "dtype: int64"
      ]
     },
     "execution_count": 20,
     "metadata": {},
     "output_type": "execute_result"
    }
   ],
   "source": [
    "df_train.nunique()"
   ]
  },
  {
   "cell_type": "code",
   "execution_count": 21,
   "metadata": {},
   "outputs": [
    {
     "data": {
      "text/plain": [
       "dtype('O')"
      ]
     },
     "execution_count": 21,
     "metadata": {},
     "output_type": "execute_result"
    }
   ],
   "source": [
    "df_train['totals.hits'].dtype"
   ]
  },
  {
   "cell_type": "markdown",
   "metadata": {},
   "source": [
    "## Searching all categories"
   ]
  },
  {
   "cell_type": "code",
   "execution_count": 22,
   "metadata": {
    "scrolled": true
   },
   "outputs": [
    {
     "name": "stdout",
     "output_type": "stream",
     "text": [
      "channelGrouping :   ['Organic Search' 'Referral' 'Affiliates' 'Direct' 'Display' 'Paid Search'\n",
      " 'Social' '(Other)']\n",
      "\n",
      "device.browser :   ['Chrome' 'Internet Explorer' 'Safari' 'Firefox' 'Edge' 'Safari (in-app)'\n",
      " 'Opera' 'Opera Mini' 'Nokia Browser' 'Android Webview' 'YaBrowser'\n",
      " 'UC Browser' 'Amazon Silk' 'Android Browser' 'Coc Coc' 'ThumbSniper'\n",
      " 'Mozilla Compatible Agent' 'Maxthon' 'Nintendo Browser' 'LYF_LS_4002_12'\n",
      " 'osee2unifiedRelease' 'MRCHROME' 'Iron' 'BlackBerry' 'Lunascape' 'Puffin'\n",
      " '0' 'Apple-iPhone7C2' 'NokiaE52-1' 'Seznam' 'Mozilla']\n",
      "\n",
      "device.deviceCategory :   ['desktop' 'mobile' 'tablet']\n",
      "\n",
      "device.isMobile :   [False  True]\n",
      "\n",
      "device.operatingSystem :   ['Windows' 'Android' 'Macintosh' 'iOS' 'Linux' 'Chrome OS' '(not set)'\n",
      " 'Windows Phone' 'Firefox OS' 'Samsung' 'Nintendo Wii' 'BlackBerry' 'Xbox'\n",
      " 'Nintendo WiiU' 'Nokia']\n",
      "\n",
      "geoNetwork.city :   ['Madrid' 'not available in demo dataset' 'Paris' 'Amsterdam' 'Singapore'\n",
      " 'Mountain View' 'Buenos Aires' 'Barcelona' 'Rome' 'Sydney' 'La Victoria'\n",
      " 'Sunnyvale' 'Kolkata' 'San Francisco' 'Chicago' 'Bangkok' 'Sao Paulo'\n",
      " 'Dubai' 'San Jose' 'Montreal' 'Dublin' 'Boston' 'New Delhi' 'Palo Alto'\n",
      " 'Cupertino' 'New York' 'Mumbai' 'Seoul' '(not set)' 'Istanbul' 'Izmir'\n",
      " 'Nairobi' 'London' 'Warsaw' 'Austin' 'Ann Arbor' 'Moscow' 'Santa Clara'\n",
      " 'Salem' 'Bengaluru' 'Seattle' 'Karachi' 'Hanoi' 'Brisbane' 'Toronto'\n",
      " 'Ho Chi Minh City' 'Tel Aviv-Yafo' 'Tunis' 'Rio de Janeiro' 'Tigard'\n",
      " 'Kiev' 'Vancouver' 'Washington' 'Prague' 'Houston' 'Stockholm'\n",
      " 'Hong Kong' 'Munich' 'Ostrava' 'Atlanta' 'Portland' 'Fremont' 'Frankfurt'\n",
      " 'Yokohama' 'Dallas' 'Hamburg' 'Jakarta' 'Chennai' 'Pune' 'Budapest'\n",
      " 'Beijing' 'Melbourne' 'Los Angeles' 'San Diego' 'Minato' 'San Bruno'\n",
      " 'Jaipur' 'Kuala Lumpur' 'Ningbo' 'Columbus' 'Shinjuku' 'Chuo' 'Indore'\n",
      " 'Hyderabad' 'Mexico City' 'Boardman' 'Villafranca del Castillo'\n",
      " 'Petaling Jaya' 'Evanston' 'Kirkland' 'Zagreb' 'Richardson' 'Irvine'\n",
      " 'Quezon City' 'Zurich' 'Riyadh' 'Bandung' 'Bucharest' 'Targu Mures'\n",
      " 'Poznan' 'Cambridge' 'Cebu City' 'Ankara' 'Phoenix' 'Detroit' 'Perth'\n",
      " 'Milpitas' 'Redwood City' 'Bogota' 'Lille' 'Malaga' 'Berlin'\n",
      " 'Jacksonville' 'Montevideo' 'Almeria' 'Lyon' 'Charlotte' 'Telford'\n",
      " 'Brasilia' 'Ahmedabad' 'Thai Nguyen' 'Campinas' 'Dalat' 'Hua Hin'\n",
      " 'Da Nang' 'Curitiba' 'Surat' 'Vung Tau' 'Las Vegas' 'Quang Ngai'\n",
      " 'Bien Hoa' 'Hai Phong' 'Nha Trang' 'Surabaya' 'Ghent' 'Osaka' 'Oradea'\n",
      " 'Shanghai' 'Belo Horizonte' 'Cairo' 'Mueang Khon Kaen District'\n",
      " 'Buon Ma Thuot' 'Timisoara' 'Eau Claire' 'Amherst' 'Salvador' 'Tbilisi'\n",
      " 'Qui Nhon' 'Cluj-Napoca' 'Mueang Chiang Mai District' 'Eskisehir'\n",
      " 'Lisbon' 'Kitchener' 'Bellingham' 'San Antonio' 'Athens' 'Liverpool'\n",
      " 'Konya' 'Adana' 'Mersin' 'Hai Duong' 'Baku' 'Davao City' 'Minneapolis'\n",
      " 'Philadelphia' 'Kampar' 'Denver' 'Bellflower' 'Indianapolis' 'Riga'\n",
      " 'South San Francisco' 'Pittsburgh' 'Mississauga' 'Milan' 'Orlando'\n",
      " 'Manchester' 'Jersey City' 'Norfolk' 'Vienna' 'Boulder' 'Oude Meer'\n",
      " 'Colombo' 'Chandigarh' 'Gurgaon' 'Alba' 'Jeddah' 'Quebec City' 'Miami'\n",
      " 'Ashburn' 'Porto Alegre' 'Seville' 'Geneva' 'Santiago' 'Zaragoza'\n",
      " 'Chiyoda' 'Auckland' 'Redmond' 'Glasgow' 'Valencia' 'Pozuelo de Alarcon'\n",
      " 'Omaha' 'Bordeaux' 'Dacun Township' 'Pontivy' 'Taguig' 'San Mateo'\n",
      " 'Normandy' 'Alicante' 'Gothenburg' 'Santa Monica' 'Maracaibo' 'Greer'\n",
      " 'Marseille' 'Oakland' 'Sacramento' 'Pleiku' 'My Tho' 'Thessaloniki'\n",
      " 'Calgary' 'Thornton' 'Waterloo' 'Medellin' 'Council Bluffs' 'Cao Lanh'\n",
      " 'Hue' 'Patna' 'Goose Creek' 'Manila' 'Monterrey' 'Shibuya' 'Lahore'\n",
      " 'Kansas City' 'Nakhon Pathom' 'Bursa' 'Aydin'\n",
      " 'Mueang Nakhon Ratchasima District' 'Rockwood' 'Ridgewood'\n",
      " 'Lawrence Township' 'East Lansing' 'The Hague' 'Saint Petersburg'\n",
      " 'Makati' 'Netanya' 'Riverside' 'Belgrade' 'Plano' 'Vilnius' 'Tempe'\n",
      " 'Krakow' 'Schagen' 'Rotterdam' \"'s Hertogenbosch\" 'Turin' 'Akron'\n",
      " 'Kharkiv' 'Sofia' 'Skopje' 'Brussels' 'Bozeman' 'Sherbrooke' 'Salford'\n",
      " 'Furth' 'Hallein' 'Bilbao' 'Leusden' 'Nea Erythraia' 'Goiania' 'Kayseri'\n",
      " 'Aberdeen' 'Doha' 'Greve Strand' 'Birmingham' 'Bhubaneswar' 'Miyazaki'\n",
      " 'Antalya' 'Trabzon' 'Lagos' 'Hoi An' 'Aalborg' 'Lucknow' 'Almaty'\n",
      " 'Thai Binh' 'Vinh' \"St. John's\" 'Ottawa' 'Cordoba' 'Casablanca'\n",
      " 'Belagavi' 'Lexington' 'Toledo' 'Breda' 'Sandton' 'Cologne' 'Sibiu'\n",
      " 'Abu Dhabi' 'Cork' 'Douglasville' 'Weingarten' 'Santa Fe' 'Helsinki'\n",
      " 'Oshkosh' 'Samsun' 'Saint Polten' 'Erzurum' 'Kuwait City' 'Utrecht'\n",
      " 'Zaventem' 'Chico' 'Union City' 'Pleasanton' 'Nice' 'Roskilde' 'Metz'\n",
      " 'Leeds' 'Viby' 'Cuiaba' 'Kiryat Ono' 'Medina' 'Cincinnati' 'Druid Hills'\n",
      " 'Johor Bahru' 'Zhongli District' 'Parsippany-Troy Hills'\n",
      " 'Montigny-le-Bretonneux' 'Hukou Township' 'Nashville' 'Petergof'\n",
      " 'Navi Mumbai' 'Caracas' 'Noida' 'Katowice' 'Kalamazoo' 'Sakai' 'Fresno'\n",
      " 'Farmington Hills' 'Amberg' 'Iasi' 'Copenhagen' 'Rach Gia' 'Kharagpur'\n",
      " 'Brno' 'Lake Oswego' 'Shiocton' 'San Marcos' 'Barnsley' 'Santa Ana'\n",
      " 'Stuttgart' 'Madison' 'Kosice' 'Fortaleza' 'Oxford' 'Mechelen' 'Rexburg'\n",
      " 'Gijon' 'Can Tho' 'Gaziantep' 'Dnipro' 'Whitewater' 'LaFayette'\n",
      " 'Thanh Hoa' 'Springfield' 'Canterbury' 'Menlo Park' 'Coimbatore' 'Nanded'\n",
      " 'Kortrijk' 'Campbell' 'Raleigh' 'Ljubljana' 'Memphis' 'Wroclaw'\n",
      " 'Gatineau' 'Lehi' 'Hermosillo' 'Burnaby' 'Tampa' 'Tirana' 'Bratislava'\n",
      " 'Manaus' 'Fukui' 'Vannes' 'Nam Djinh' 'Birkenes' 'Amã'\n",
      " 'Santiago de Surco' 'Rosario' 'Hayward' 'Shah Alam' 'Sabadell'\n",
      " 'Dusseldorf' 'Piura' 'Piscataway Township' 'Arnhem' 'Appleton' 'Makassar'\n",
      " 'Olomouc' 'Vincennes' 'Dahlonega' 'Vejle' 'Pinamar' 'Subang Jaya'\n",
      " 'Saint Paul' 'Berkeley' 'Wellesley' 'Daegu' 'Mueang Songkhla District'\n",
      " 'Fareham' 'Orem' 'Molesey' 'Longtan District' 'Adelaide' 'Salt Lake City'\n",
      " 'Leon' 'Beirut' 'Erode' 'Minxiong Township' 'Brest' 'South El Monte'\n",
      " 'North Attleborough' 'Odense' 'Mar del Plata' 'Stanford' 'Coventry'\n",
      " 'Ramat Gan' 'Fort Worth' 'Alba Iulia' 'Esbjerg' 'The Dalles' 'Smyrna'\n",
      " 'Forest Park' 'San Carlos' 'Oviedo' 'Edison' 'McAllen' 'Florianopolis'\n",
      " 'Camden' 'Oslo' 'Zhudong Township' 'Ulaanbaatar' 'El Paso' 'Lewisville'\n",
      " 'Salzburg' 'Courbevoie' 'Seongnam-si' 'St. Louis' 'Avon' 'Wheaton'\n",
      " 'Bothell' 'Hamden' 'Newtonville' 'Guadalajara' 'Chevilly Larue'\n",
      " 'Zaoqiao Township' 'Woodbridge Township' \"Villeneuve-d'Ascq\" 'Cali'\n",
      " 'Quimper' 'Szczecin' 'Charlottetown' 'Pueblo' 'Kochi' 'Barranquilla'\n",
      " 'Montreuil' 'Kyiv' 'Depok' 'Neipu Township' 'Culiacan' 'Atibaia' 'Pasig'\n",
      " 'Tallinn' 'Naples' 'Towson' 'Aalen' 'Pescara' 'Daly City' 'Cape Town'\n",
      " 'Wrexham' 'Edmonton' 'Naha' 'Ciudad Real' 'Byron' 'Egham' 'Louisville'\n",
      " 'Redondo Beach' 'Collegeville' 'Sharjah' 'Oneonta' 'Bellevue' 'Nantes'\n",
      " 'Westlake Village' 'Brookline' 'Koszalin' 'Minsk' 'Odessa' 'Vadodara'\n",
      " 'Semarang' 'Ha Tinh' 'Alexandria' 'New Westminster' 'Culpeper'\n",
      " 'Overland Park' 'Dundalk' 'Charlottesville' 'Burlington'\n",
      " 'Clermont-Ferrand' 'Ipoh' 'Okemos' 'Wellington' 'Paradise' 'Pessac'\n",
      " 'Talence' 'Zamudio' 'Cagliari' 'Honolulu' 'Deva' 'Elche' 'Altrincham'\n",
      " 'Quito' 'Cancun' 'Walnut Creek' 'Herzliya' 'Milwaukee' 'Laguna Beach'\n",
      " 'Watford' 'Coffeyville' 'Randburg' 'Barrie' 'Hangzhou' 'University Park'\n",
      " 'Faro' 'Bournemouth' 'Issy-les-Moulineaux' 'Lausanne' 'Zapopan' 'Osijek'\n",
      " 'Brampton' 'Bekasi' 'Prato' 'Valparaiso' 'Danville']\n",
      "\n",
      "geoNetwork.continent :   ['Europe' 'Americas' 'Asia' 'Oceania' 'Africa' '(not set)']\n",
      "\n",
      "geoNetwork.country :   ['Spain' 'United Kingdom' 'France' 'Netherlands' 'Belgium' 'Denmark'\n",
      " 'Canada' 'Mexico' 'Russia' 'Portugal' 'Singapore' 'United States'\n",
      " 'Germany' 'Sweden' 'Argentina' 'Italy' 'South Korea' 'Romania'\n",
      " 'Australia' 'Poland' 'Peru' 'Lithuania' 'India' 'Philippines' 'Thailand'\n",
      " 'Croatia' 'Brazil' 'United Arab Emirates' 'Ireland' 'Greece' 'Malta'\n",
      " 'Colombia' 'Uzbekistan' 'Japan' 'Slovenia' 'Algeria' 'Malaysia' 'Morocco'\n",
      " 'Dominican Republic' 'Turkey' 'Vietnam' 'Kazakhstan' 'Kenya' 'Indonesia'\n",
      " 'Taiwan' 'Pakistan' 'Saudi Arabia' 'Egypt' 'Macedonia (FYROM)' 'Kosovo'\n",
      " 'Israel' 'Jordan' 'Bolivia' 'Togo' 'Tunisia' 'Gambia' 'Ukraine'\n",
      " 'Slovakia' 'Czechia' 'New Zealand' 'Palestine' 'Switzerland' 'Hong Kong'\n",
      " 'Hungary' 'Azerbaijan' 'Serbia' 'Georgia' 'Costa Rica' 'Panama' 'China'\n",
      " 'Sri Lanka' 'Chile' 'Norway' 'Latvia' 'Nigeria' 'Bangladesh' 'Qatar'\n",
      " 'Belarus' 'Austria' 'Bulgaria' 'South Africa' 'Moldova' 'Guinea-Bissau'\n",
      " 'Ecuador' 'Finland' 'Sudan' 'Iraq' 'Oman' 'Guatemala' 'Cameroon'\n",
      " 'Uruguay' 'Bahrain' 'Puerto Rico' 'Kyrgyzstan' 'Venezuela' 'Albania'\n",
      " 'Armenia' 'Kuwait' 'Cambodia' 'Ghana' 'Bosnia & Herzegovina' '(not set)'\n",
      " 'Myanmar (Burma)' 'Guyana' 'Ethiopia' 'Estonia' 'Swaziland' 'Laos'\n",
      " 'Antigua & Barbuda' 'Namibia' 'Cyprus' 'El Salvador' 'Tanzania'\n",
      " 'Paraguay' 'Guernsey' 'Lebanon' 'Congo - Kinshasa' 'Bermuda' 'Mauritius'\n",
      " 'Yemen' 'Martinique' 'Uganda' 'Turks & Caicos Islands' 'Cape Verde'\n",
      " 'Réunion' 'Mali' 'Honduras' 'Iceland' 'Guinea' 'New Caledonia' 'Monaco'\n",
      " 'Senegal' 'Côte d’Ivoire' 'Zimbabwe' 'Jamaica' 'Brunei' 'Libya' 'Fiji'\n",
      " 'Belize' 'Guam' 'Mayotte' 'Rwanda' 'Nepal' 'Nicaragua' 'Macau' 'Haiti'\n",
      " 'Suriname' 'Montenegro' 'Somalia' 'Curaçao' 'French Polynesia' 'Maldives'\n",
      " 'Afghanistan' 'St. Vincent & Grenadines' 'Benin' 'Barbados' 'Mozambique'\n",
      " 'Mauritania' 'Luxembourg' 'Burkina Faso' 'Chad' 'Trinidad & Tobago'\n",
      " 'Mongolia' 'Sierra Leone' 'Gabon' 'Madagascar' 'Grenada'\n",
      " 'U.S. Virgin Islands' 'Zambia' 'Bahamas' 'Angola' 'Gibraltar' 'Anguilla'\n",
      " 'Timor-Leste' 'Guadeloupe' 'Jersey' 'Aruba' 'St. Lucia' 'Comoros'\n",
      " 'Caribbean Netherlands' 'Syria' 'St. Kitts & Nevis' 'Burundi'\n",
      " 'Sint Maarten' 'Djibouti' 'British Virgin Islands' 'Iran' 'Liberia'\n",
      " 'Papua New Guinea']\n",
      "\n",
      "geoNetwork.metro :   ['(not set)' 'not available in demo dataset'\n",
      " 'San Francisco-Oakland-San Jose CA' 'Chicago IL'\n",
      " 'Boston MA-Manchester NH' 'New York NY' 'London' 'Austin TX' 'Detroit MI'\n",
      " 'Roanoke-Lynchburg VA' 'Seattle-Tacoma WA' 'Portland OR'\n",
      " 'Washington DC (Hagerstown MD)' 'Houston TX' 'Atlanta GA'\n",
      " 'Dallas-Ft. Worth TX' 'Los Angeles CA' 'San Diego CA' 'Columbus OH'\n",
      " 'Phoenix AZ' 'Jacksonville FL' 'Charlotte NC' 'Midlands' 'Las Vegas NV'\n",
      " 'La Crosse-Eau Claire WI' 'Springfield-Holyoke MA' 'San Antonio TX'\n",
      " 'North West' 'Minneapolis-St. Paul MN' 'Philadelphia PA' 'Denver CO'\n",
      " 'Indianapolis IN' 'Pittsburgh PA' 'Orlando-Daytona Beach-Melbourne FL'\n",
      " 'Norfolk-Portsmouth-Newport News VA' 'Miami-Ft. Lauderdale FL'\n",
      " 'Central Scotland' 'JP_KANTO' 'Omaha NE' 'St. Louis MO'\n",
      " 'Greenville-Spartanburg-Asheville-Anderson'\n",
      " 'Sacramento-Stockton-Modesto CA' 'Charleston SC' 'Kansas City MO'\n",
      " 'Lansing MI' 'Cleveland-Akron (Canton) OH' 'Butte-Bozeman MT'\n",
      " 'North Scotland' 'Lexington KY' 'Green Bay-Appleton WI'\n",
      " 'Chico-Redding CA' 'Yorkshire' 'Cincinnati OH' 'Nashville TN'\n",
      " 'Grand Rapids-Kalamazoo-Battle Creek MI' 'Fresno-Visalia CA' 'Madison WI'\n",
      " 'Idaho Falls-Pocatello ID' 'Milwaukee WI' 'Chattanooga TN'\n",
      " 'Springfield MO' 'Meridian (exc. Channel Islands)'\n",
      " 'Raleigh-Durham (Fayetteville) NC' 'Memphis TN' 'Salt Lake City UT'\n",
      " 'Tampa-St. Petersburg (Sarasota) FL' 'JP_KINKI'\n",
      " 'Providence-New Bedford,MA' 'Harlingen-Weslaco-Brownsville-McAllen TX'\n",
      " 'El Paso TX' 'Hartford & New Haven CT' 'Albany-Schenectady-Troy NY'\n",
      " 'Colorado Springs-Pueblo CO' 'Baltimore MD' 'HTV Wales'\n",
      " 'Rochester-Mason City-Austin,IA' 'Louisville KY' 'Utica NY'\n",
      " 'Charlottesville VA' 'Honolulu HI' 'JP_OTHER' 'Tulsa OK']\n",
      "\n",
      "geoNetwork.networkDomain :   ['unknown.unknown' 'nerim.net' '(not set)' ... 'univie.ac.at'\n",
      " 'coresite.com' 'rhinocommunications.net']\n",
      "\n",
      "geoNetwork.region :   ['Community of Madrid' 'not available in demo dataset' 'Ile-de-France'\n",
      " 'North Holland' '(not set)' 'California' 'Buenos Aires' 'Catalonia'\n",
      " 'Lazio' 'New South Wales' 'Lima Region' 'West Bengal' 'Illinois'\n",
      " 'Bangkok' 'State of Sao Paulo' 'Dubai' 'Quebec' 'Dublin City'\n",
      " 'Massachusetts' 'Delhi' 'New York' 'Maharashtra' 'Seoul' 'Istanbul'\n",
      " 'Izmir' 'England' 'Masovian Voivodeship' 'Taipei City' 'Texas' 'Michigan'\n",
      " 'Moscow' 'Virginia' 'Karnataka' 'Washington' 'Sindh' 'Hanoi' 'Queensland'\n",
      " 'Ontario' 'Ho Chi Minh' 'Tel Aviv District' 'State of Rio de Janeiro'\n",
      " 'Oregon' 'Kyiv city' 'British Columbia' 'District of Columbia' 'Prague'\n",
      " 'Stockholm County' 'Bavaria' 'Moravian-Silesian Region' 'Georgia'\n",
      " 'County Dublin' 'Hesse' 'Kanagawa Prefecture' 'Hamburg' 'Jakarta'\n",
      " 'Tamil Nadu' 'Budapest' 'Beijing' 'Victoria' 'Tokyo' 'Rajasthan'\n",
      " 'Federal Territory of Kuala Lumpur' 'Zhejiang' 'Ohio' 'Madhya Pradesh'\n",
      " 'Telangana' 'Mexico City' 'Dhaka Division' 'Selangor' 'City of Zagreb'\n",
      " 'Metro Manila' 'Zurich' 'Riyadh Province' 'West Java' 'North Carolina'\n",
      " 'Bucharest' 'Mures County' 'Greater Poland Voivodeship' 'Central Visayas'\n",
      " 'Ankara' 'Arizona' 'Western Australia' 'Bogota' 'Hauts-de-France'\n",
      " 'Andalusia' 'Berlin' 'Florida' 'Auvergne-Rhone-Alpes' 'Federal District'\n",
      " 'Gujarat' 'Thai Nguyen' 'Lam Djong' 'Chon Buri' 'Prachuap Khiri Khan'\n",
      " 'Da Nang' 'State of Parana' 'Ba Ria - Vung Tau' 'Khon Kaen' 'Nevada'\n",
      " 'Quang Ngai' 'Dong Nai' 'Haiphong' 'Chiang Mai' 'Khanh Hoa Province'\n",
      " 'Nakhon Sawan' 'East Java' 'Flanders' 'Osaka Prefecture' 'Bihor County'\n",
      " 'Udon Thani' 'Shanghai' 'State of Minas Gerais' 'Cairo Governorate'\n",
      " 'Djak Lak Province' 'Timis County' 'Wisconsin' 'Songkhla'\n",
      " 'State of Bahia' 'Tbilisi' 'Binh Dinh Province' 'Cluj County'\n",
      " 'New Taipei City' 'Eskisehir Province' 'Lisbon' 'Bac Giang' 'Attica'\n",
      " 'Konya' 'Adana' 'Mersin Province' 'Hai Duong' 'Davao Region' 'Minnesota'\n",
      " 'Pennsylvania' 'Perak' 'Kaohsiung City' 'Colorado' 'Indiana' 'Riga'\n",
      " 'Lombardy' 'New Jersey' 'Vienna' 'Western Province' 'Chandigarh'\n",
      " 'Haryana' 'Piedmont' 'Makkah Province' 'Taichung City'\n",
      " 'State of Rio Grande do Sul' 'Geneva' 'Santiago Metropolitan Region'\n",
      " 'Aragon' 'Auckland' 'Scotland' 'Ho Chi Minh City' 'Valencian Community'\n",
      " 'Nebraska' 'Nouvelle-Aquitaine' 'Changhua County' 'Brittany' 'Missouri'\n",
      " 'Vastra Gotaland County' 'Zulia' 'South Carolina'\n",
      " \"Provence-Alpes-Cote d'Azur\" 'Nakhon Ratchasima' 'Gia Lai Province'\n",
      " 'Tien Giang' 'Central Macedonia' 'Alberta' 'Antioquia' 'Iowa'\n",
      " 'Djong Thap Province' 'Thua Thien Hue' 'Bihar' 'Nuevo Leon' 'Punjab'\n",
      " 'Nakhon Pathom' 'Bac Ninh Province' 'Bursa' 'Aydin Province'\n",
      " 'South Holland' 'Saint Petersburg' 'Center District' 'Saraburi'\n",
      " 'Ubon Ratchathani' 'Vilnius County' 'Lesser Poland Voivodeship'\n",
      " 'Amman Governorate' 'North Brabant' 'Kharkiv Oblast'\n",
      " 'Sofia City Province' 'Brussels' 'Montana' 'Salzburg' 'Basque Country'\n",
      " 'Utrecht' 'State of Goias' 'Rayong' 'Kayseri Province' 'State of Mexico'\n",
      " 'Doha' 'Region Zealand' 'Odisha' 'Miyazaki Prefecture' 'Surat Thani'\n",
      " 'Antalya' 'Trabzon' 'Chiang Rai' 'Lagos' 'Quang Nam Province'\n",
      " 'North Denmark Region' 'Uttar Pradesh' 'Almaty Province' 'Thai Binh'\n",
      " 'Vinh Phuc Province' 'Nghe An' 'Newfoundland and Labrador' 'Cordoba'\n",
      " 'Grand Casablanca' 'Phuket' 'Kentucky' 'Castile-La Mancha' 'Gauteng'\n",
      " 'North Rhine-Westphalia' 'Sibiu' 'Phra Nakhon Si Ayutthaya' 'Abu Dhabi'\n",
      " 'County Cork' 'Baden-Wurttemberg' 'Santa Fe Province' 'Hung Yen Province'\n",
      " 'Tay Ninh Province' 'Samsun' 'Lower Austria' 'Erzurum' 'Pathum Thani'\n",
      " 'Grand Est' 'Central Denmark Region' 'State of Mato Grosso'\n",
      " 'Al Madinah Province' 'Johor' 'Taoyuan County' 'Hsinchu County'\n",
      " 'Tennessee' 'Aquitaine' 'Capital District' 'Silesian Voivodeship'\n",
      " 'Fukui Prefecture' 'Iasi County' 'Capital Region of Denmark' 'Kien Giang'\n",
      " 'South Moravian Region' 'Kosice Region' 'Algiers Province'\n",
      " 'State of Ceara' 'Idaho' 'Asturias' 'Can Tho' 'Gaziantep'\n",
      " 'Dnipropetrovsk Oblast' 'Phitsanulok' 'Thanh Hoa' 'Ljubljana'\n",
      " 'Lower Silesian Voivodeship' 'Utah' 'Sonora' 'Bratislava Region'\n",
      " 'State of Amazonas' 'Nam Dinh' 'Aust-Agder' 'Cusco' 'Piura' 'Gelderland'\n",
      " 'South Sulawesi' 'Olomouc Region' 'Region Syddanmark'\n",
      " 'Buenos Aires Province' 'Puebla' 'Tainan City' 'Daegu' 'South Australia'\n",
      " 'Guanajuato' 'Beirut Governorate' 'Chiayi County' 'Brest Region'\n",
      " 'Alba County' 'State of Santa Catarina' 'Oslo' 'Gyeonggi-do'\n",
      " 'Connecticut' 'Jalisco' 'Miaoli County' 'Valle del Cauca'\n",
      " 'West Pomeranian Voivodeship' 'Prince Edward Island' 'Kerala' 'Atlantico'\n",
      " 'Maha Sarakham' 'Special Region of Yogyakarta' 'Pingtung County'\n",
      " 'Sinaloa' 'Harju County' 'Campania' 'Maryland' 'Abruzzo' 'Western Cape'\n",
      " 'Wales' 'Okinawa Prefecture' 'Nairobi County' 'Sharjah'\n",
      " 'Pays de la Loire' 'Odessa Oblast' 'Central Java' 'Ha Tinh Province'\n",
      " 'Alexandria Governorate' 'Kansas' 'County Louth' 'Wellington' 'Sardinia'\n",
      " 'Hawaii' 'Hunedoara County' 'Pichincha' 'Quintana Roo' 'Minsk Region'\n",
      " 'Faro District' 'Vaud' 'Osijek-Baranja County' 'Tuscany'\n",
      " 'Valparaiso Region' 'Magdalena']\n",
      "\n",
      "geoNetwork.subContinent :   ['Southern Europe' 'Northern Europe' 'Western Europe' 'Northern America'\n",
      " 'Central America' 'Eastern Europe' 'Southeast Asia' 'South America'\n",
      " 'Eastern Asia' 'Australasia' 'Southern Asia' 'Western Asia'\n",
      " 'Central Asia' 'Northern Africa' 'Caribbean' 'Eastern Africa'\n",
      " 'Western Africa' 'Southern Africa' 'Middle Africa' '(not set)'\n",
      " 'Melanesia' 'Micronesian Region' 'Polynesia']\n",
      "\n",
      "trafficSource.adContent :   [nan 'First Full Auto Template Test Ad' 'Display Ad created 3/11/14'\n",
      " 'Google Online Store' 'Google Merchandise Collection'\n",
      " '{KeyWord:Google Branded Apparel}' 'Full auto ad IMAGE ONLY'\n",
      " '{KeyWord:Google Brand Items}' 'Display Ad created 3/11/15'\n",
      " 'Ad from 12/13/16' '{KeyWord:Want Google Stickers?}' 'Ad from 11/3/16'\n",
      " 'Google Store' '20% discount' '{KeyWord:Google Merchandise}'\n",
      " 'Ad from 11/7/16' '{KeyWord:Google Branded Gear}'\n",
      " 'Full auto ad NATIVE ONLY' 'Full auto ad TEXT/NATIVE'\n",
      " '{KeyWord:Looking for Google Bags?}' 'Display Ad created 11/17/14'\n",
      " 'Swag with Google Logos' 'Google Merchandise'\n",
      " \"{KeyWord:Google Men's T-Shirts}\"\n",
      " 'Official Google Merchandise - Fast Shipping' 'LeEco_1a'\n",
      " '{KeyWord:Want Google Pet Toys?}' 'Free Shipping!'\n",
      " '{KeyWord:Google Drinkware}' '{KeyWord:Google Branded Kit}'\n",
      " '{KeyWord:Google Branded Outerwear}' 'JD_5a_v1' 'Google store'\n",
      " 'Google Paraphernalia']\n",
      "\n",
      "trafficSource.adwordsClickInfo.slot :   [nan 'Top' 'RHS']\n",
      "\n",
      "trafficSource.campaign :   ['(not set)' 'Data Share Promo' 'AW - Dynamic Search Ads Whole Site'\n",
      " 'AW - Accessories' 'AW - Apparel' 'test-liyuhz'\n",
      " 'Retail (DO NOT EDIT owners nophakun and tianyu)' 'AW - Electronics'\n",
      " 'All Products']\n",
      "\n",
      "trafficSource.medium :   ['organic' 'referral' 'affiliate' '(none)' 'cpm' 'cpc' '(not set)']\n",
      "\n",
      "trafficSource.source :   ['google' 'baidu' 'mall.googleplex.com' 'google.com' 'Partners'\n",
      " 'analytics.google.com' 'siliconvalley.about.com' '(direct)' 'dfa'\n",
      " 'phandroid.com' 'youtube.com' 'facebook.com' 'sites.google.com'\n",
      " 'quora.com' 'blog.golang.org' 'qiita.com' 'yahoo'\n",
      " '0.shared.bow.cat2.ads-bow.vu.borg.google.com:9856' 'support.google.com'\n",
      " 'gdeals.googleplex.com' 'reddit.com' 'm.youtube.com'\n",
      " 'search.mysearch.com' 'm.baidu.com' 'bing' 'm.facebook.com'\n",
      " 'docs.google.com' 'l.facebook.com' 'lunametrics.com' 't.co'\n",
      " 'google.co.jp' 'arstechnica.com' 'linkedin.com' 'hangouts.google.com'\n",
      " 'gsuite.google.com' 'googleweblight.com' 'googleads.g.doubleclick.net'\n",
      " 'sashihara.jp' 'search.xfinity.com' 'mail.google.com' 'groups.google.com'\n",
      " 'dealspotr.com' 'ask' 'google.es' 'optimize.google.com' 'google.co.uk'\n",
      " 'm.sogou.com' 'connect.googleforwork.com' 'moma.corp.google.com'\n",
      " 'uk.search.yahoo.com' 's0.2mdn.net' 'lm.facebook.com' 'duckduckgo.com'\n",
      " 'adwords.google.com' 'productforums.google.com' 'ca.search.yahoo.com'\n",
      " 'dynamite.sandbox.google.com' 'images.google.de' 'm.reddit.com'\n",
      " 'outlook.live.com' 'msn.com' 'search.tb.ask.com' 'wap.sogou.com'\n",
      " 'col128.mail.live.com' 'googleux.perksplus.com' 'int.search.tb.ask.com'\n",
      " 'startpage.com' 'google.co.kr' 'plus.google.com' 'seroundtable.com'\n",
      " 'keep.google.com' 'uweoconnect.extn.washington.edu' 'flipboard.com'\n",
      " 'google.de' 'de.pinterest.com' 'gophergala.com' 'awics.corp.google.com'\n",
      " 'adwords-displayads.googleusercontent.com' 'watchword.googleplex.com'\n",
      " 'plus.sandbox.google.com' 'h.yandex-team.ru' 'nl.search.yahoo.com'\n",
      " 'images.google' 'm.vk.com' 'l.messenger.com' 'google.nl' 'getiriver.com'\n",
      " 'plus.url.google.com' 'gtm-preprod-dogfood.corp.google.com'\n",
      " 'amp.reddit.com' 'mg.mail.yahoo.com' 'tpc.googlesyndication.com'\n",
      " 'messenger.com' '(not set)' 'businessinsider.com'\n",
      " 'adwords-next-nightly.qa.adz.google.com' 'feedly.com'\n",
      " 'uk.businessinsider.com' 'github.com' 'datastudio.google.com'\n",
      " 'adwords-next-devel.qa.adz.google.com' 'crowdcompute.googleplex.com'\n",
      " 'google.it' 'google.bg' 'suche.t-online.de' 'search.snapdo.com'\n",
      " 'us.search.yahoo.com' 'online-metrics.com' 'cases.corp.google.com'\n",
      " 'squishable.com' 'search.earthlink.net' 'myactivity.google.com'\n",
      " 'google.fr' 'web.facebook.com' 'dailydot.com' 'cl-cards.googleplex.com'\n",
      " 'learn.colorado.edu' 'oct-obscura.sandbox.google.com'\n",
      " 'course.fso.fullsail.edu' 'go.mail.ru' 'google.gr'\n",
      " 'desktop.google.com.ua' 'chat.google.com' 'myaccount.google.com'\n",
      " 'twitter.com' 'trainup.withgoogle.com' 'localhost' 'wanelo.com'\n",
      " 'google.co.id' 'google.co.in' 'google.com.ph'\n",
      " '0.shared.bow.cat2.ads-bow.lf.borg.google.com:9824' 'getpocket.com'\n",
      " 'vk.com' 'members.s7.exacttarget.com' 'newclasses.nyu.edu' 'google.be'\n",
      " 'google.ca' 'google.com.mx' 'grow.googleplex.com'\n",
      " 'ddimitrop.irv.corp.google.com:9001' 'amazon.com' 'google.com.au'\n",
      " 'calendar.google.com' 'google.ru'\n",
      " '0.shared.bow.cat2.ads-bow.qk.borg.google.com:9830' 'pinterest.com'\n",
      " '0.shared.bow.cat2.ads-bow.vw.borg.google.com:9891' 'new.vk.com'\n",
      " '0.shared.bow.cat2.ads-bow.yw.borg.google.com:9813' 'away.vk.com'\n",
      " 'learn.temple.edu' 'au.search.yahoo.com' 'aol' 'blognone.com'\n",
      " 'notifications.sandbox.google.com'\n",
      " '0.shared.bow.cat2.ads-bow.vu.borg.google.com:9859'\n",
      " 'web.mail.comcast.net' 'google.com.hk' 'bing.com' 'ph.search.yahoo.com'\n",
      " '0.shared.bow.cat2.ads-bow.yw.borg.google.com:9816' 'google.com.tw'\n",
      " 'csfirst.withgoogle.com' 'in.search.yahoo.com' 'gatewaycdi.com'\n",
      " 'marketingland.com' 'good.barkpost.com' 'kik.com'\n",
      " 'analytics.corp.google.com' 'kidrex.org']\n",
      "\n"
     ]
    }
   ],
   "source": [
    "columns_categorical = [\n",
    "    'channelGrouping','device.browser', 'device.deviceCategory',\n",
    "    'device.isMobile', 'device.operatingSystem', 'geoNetwork.city',\n",
    "    'geoNetwork.continent', 'geoNetwork.country', 'geoNetwork.metro',\n",
    "    'geoNetwork.networkDomain', 'geoNetwork.region', 'geoNetwork.subContinent',\n",
    "    'trafficSource.adContent', 'trafficSource.adwordsClickInfo.slot', 'trafficSource.campaign',\n",
    "    'trafficSource.medium', 'trafficSource.source'\n",
    "]\n",
    "\n",
    "for column in columns_categorical:\n",
    "    print(column, ':  ', df_train[column].unique())\n",
    "    print(\"\")"
   ]
  },
  {
   "cell_type": "code",
   "execution_count": 23,
   "metadata": {},
   "outputs": [],
   "source": [
    "def Normalize(df) : \n",
    "    df['totals.hits'] = df['totals.hits'].astype(float)\n",
    "    df['totals.hits'] = preprocessing.MinMaxScaler(df['totals.hits'])\n",
    "    \n",
    "    df['totals.pageviews'] = preprocessing.MinMaxScaler(df['totals.pageviews'])\n",
    "    \n",
    "    df['totals.transactionRevenue'] = df['totals.transactionRevenue'].astype(float)\n",
    "    df['totals.transactionRevenue'] = df['totals.transactionRevenue'].fillna(0.0)\n",
    "    df['totals.transactionRevenue_log'] = np.log(df[\n",
    "                df['totals.transactionRevenue'] > 0]['totals.transactionRevenue'] + 0.01)\n",
    "    \n",
    "    return df"
   ]
  },
  {
   "cell_type": "code",
   "execution_count": 24,
   "metadata": {},
   "outputs": [],
   "source": [
    "df_train = Normalize(df_train)"
   ]
  },
  {
   "cell_type": "code",
   "execution_count": 25,
   "metadata": {},
   "outputs": [
    {
     "name": "stdout",
     "output_type": "stream",
     "text": [
      "Transaction Revenue Min Value :  990000.0\n",
      "Transaction Revenue Mean Value :  114941593.83033419\n",
      "Transaction Revenue Median Value :  45280000.0\n",
      "Transaction Revenue Max Value :  3388800000.0\n"
     ]
    }
   ],
   "source": [
    "print(\"Transaction Revenue Min Value : \",\n",
    "     df_train[df_train['totals.transactionRevenue']> 0]['totals.transactionRevenue'].min())\n",
    "print(\"Transaction Revenue Mean Value : \",\n",
    "     df_train[df_train['totals.transactionRevenue']> 0]['totals.transactionRevenue'].mean())\n",
    "print(\"Transaction Revenue Median Value : \",\n",
    "     df_train[df_train['totals.transactionRevenue']> 0]['totals.transactionRevenue'].median())\n",
    "print(\"Transaction Revenue Max Value : \",\n",
    "     df_train[df_train['totals.transactionRevenue']> 0]['totals.transactionRevenue'].max())"
   ]
  },
  {
   "cell_type": "code",
   "execution_count": 26,
   "metadata": {},
   "outputs": [
    {
     "data": {
      "text/plain": [
       "array([0., 0., 0., ..., 0., 0., 0.])"
      ]
     },
     "execution_count": 26,
     "metadata": {},
     "output_type": "execute_result"
    }
   ],
   "source": [
    "df_train['totals.transactionRevenue'].values"
   ]
  },
  {
   "cell_type": "code",
   "execution_count": 27,
   "metadata": {},
   "outputs": [
    {
     "data": {
      "text/plain": [
       "89415"
      ]
     },
     "execution_count": 27,
     "metadata": {},
     "output_type": "execute_result"
    }
   ],
   "source": [
    "df_train['totals.transactionRevenue_log'].isnull().sum()"
   ]
  },
  {
   "cell_type": "code",
   "execution_count": 28,
   "metadata": {},
   "outputs": [
    {
     "data": {
      "text/plain": [
       "(90582, 39)"
      ]
     },
     "execution_count": 28,
     "metadata": {},
     "output_type": "execute_result"
    }
   ],
   "source": [
    "df_train.shape"
   ]
  },
  {
   "cell_type": "code",
   "execution_count": 29,
   "metadata": {},
   "outputs": [
    {
     "data": {
      "image/png": "[encoded data removed]",
      "text/plain": [
       "<Figure size 1008x360 with 2 Axes>"
      ]
     },
     "metadata": {},
     "output_type": "display_data"
    }
   ],
   "source": [
    "plt.figure(figsize=(14,5))\n",
    "\n",
    "plt.subplot(1,2,1)\n",
    "ax = sns.distplot(np.log(df_train[df_train['totals.transactionRevenue'] > 0][\"totals.transactionRevenue\"] + 0.01)\n",
    "                  , bins = 40, kde= True)\n",
    "ax.set_xlabel('Transaction Revenue_log', fontsize = 15)\n",
    "ax.set_ylabel('Distribution', fontsize = 15)\n",
    "ax.set_title('Distribution of  Revenue_log', fontsize = 20)\n",
    "\n",
    "plt.subplot(1,2,2)\n",
    "plt.scatter(range(df_train.shape[0]), np.sort(df_train['totals.transactionRevenue'].values))\n",
    "plt.xlabel('Index', fontsize =15)\n",
    "plt.ylabel('Revenue value', fontsize=15)\n",
    "plt.title(\"Revenue Value Distribution\", fontsize =20)\n",
    "\n",
    "plt.show()"
   ]
  },
  {
   "cell_type": "markdown",
   "metadata": {},
   "source": [
    "### 첨도(Kurtosis), 왜도(Skewness) 측정\n",
    "* 첨도는 0에 근사할 수록 정규분포에 근사한다.\n",
    "<br>분포값이 0초과일 경우 점차 뾰족해진다.\n",
    "![첨도(Kurtosis)](https://upload.wikimedia.org/wikipedia/commons/thumb/e/e6/Standard_symmetric_pdfs.png/300px-Standard_symmetric_pdfs.png)\n",
    "* 왜도는 0에 근사할 수록 정규분포에 근사한다.(-0.5 ~ 0.5를 이상적인 값으로 여김)\n",
    "<br>분포값이 음수일 경우 오른쪽에 많은 값이 있음, 왼쪽으로 긴꼬리. \n",
    "<br>분포값이 양수일 경우 왼쪽에 많은 값이 있음, 오른쪽으로 긴꼬리.\n",
    "![왜도(Skewness)](https://upload.wikimedia.org/wikipedia/commons/thumb/f/f8/Negative_and_positive_skew_diagrams_%28English%29.svg/350px-Negative_and_positive_skew_diagrams_%28English%29.svg.png)"
   ]
  },
  {
   "cell_type": "code",
   "execution_count": 30,
   "metadata": {},
   "outputs": [
    {
     "name": "stdout",
     "output_type": "stream",
     "text": [
      "Excess Kurtosis of normal distribution : 0.5939192047352995\n",
      "Skewness of normal distribution : 0.3436196508894047\n"
     ]
    }
   ],
   "source": [
    "print('Excess Kurtosis of normal distribution : {}'.format(\n",
    "    kurtosis(df_train[df_train['totals.transactionRevenue_log']>0]['totals.transactionRevenue_log'])))\n",
    "print('Skewness of normal distribution : {}'.format(\n",
    "    skew(df_train[df_train['totals.transactionRevenue_log']>0]['totals.transactionRevenue_log'])))"
   ]
  },
  {
   "cell_type": "markdown",
   "metadata": {},
   "source": [
    "## Device Browsers\n"
   ]
  },
  {
   "cell_type": "code",
   "execution_count": 31,
   "metadata": {},
   "outputs": [
    {
     "name": "stdout",
     "output_type": "stream",
     "text": [
      "Percntual of browser usage : \n",
      "Chrome               61949\n",
      "Safari               18493\n",
      "Firefox               3717\n",
      "Internet Explorer     1993\n",
      "Edge                  1020\n",
      "Android Webview        777\n",
      "Safari (in-app)        710\n",
      "Opera Mini             609\n",
      "Opera                  522\n",
      "UC Browser             233\n",
      "Name: device.browser, dtype: int64\n"
     ]
    },
    {
     "data": {
      "image/png": "[encoded data removed]",
      "text/plain": [
       "<Figure size 1008x432 with 1 Axes>"
      ]
     },
     "metadata": {},
     "output_type": "display_data"
    }
   ],
   "source": [
    "# top 10 of browser percent\n",
    "print(\"Percntual of browser usage : \")\n",
    "print(df_train['device.browser'].value_counts().sort_values(ascending = False)[:10])\n",
    "\n",
    "plt.figure(figsize=(14,6))\n",
    "\n",
    "sns.countplot(df_train[df_train['device.browser']\\\n",
    "                       .isin(df_train['device.browser']\\\n",
    "                             .value_counts()[:10].index.values)]['device.browser'], palette = 'hls')\n",
    "\n",
    "plt.title(\"TOP 10 Most Frequent Browsers\", fontsize = 20)\n",
    "plt.xlabel(\"Browser Names\", fontsize = 16)\n",
    "plt.ylabel(\"Count\", fontsize = 16)\n",
    "plt.xticks(rotation =45)#x축 라벨 회전\n",
    "plt.show()"
   ]
  },
  {
   "cell_type": "code",
   "execution_count": 32,
   "metadata": {},
   "outputs": [
    {
     "data": {
      "text/plain": [
       "array(['Chrome', 'Safari', 'Firefox', 'Internet Explorer', 'Edge',\n",
       "       'Android Webview', 'Safari (in-app)', 'Opera Mini', 'Opera',\n",
       "       'UC Browser'], dtype=object)"
      ]
     },
     "execution_count": 32,
     "metadata": {},
     "output_type": "execute_result"
    }
   ],
   "source": [
    "df_train['device.browser'].value_counts()[:10].index.values"
   ]
  },
  {
   "cell_type": "code",
   "execution_count": 33,
   "metadata": {
    "scrolled": true
   },
   "outputs": [
    {
     "data": {
      "text/plain": [
       "0                   Chrome\n",
       "1                   Chrome\n",
       "2        Internet Explorer\n",
       "3                   Chrome\n",
       "4                   Chrome\n",
       "5                   Chrome\n",
       "6                   Chrome\n",
       "7                   Chrome\n",
       "8                   Safari\n",
       "9                   Chrome\n",
       "10                  Chrome\n",
       "11                  Chrome\n",
       "12                  Safari\n",
       "13                  Chrome\n",
       "14                 Firefox\n",
       "15                  Chrome\n",
       "16                  Chrome\n",
       "17                  Chrome\n",
       "18                  Chrome\n",
       "19                  Chrome\n",
       "20                  Chrome\n",
       "21                  Chrome\n",
       "22                  Chrome\n",
       "23                  Chrome\n",
       "24                    Edge\n",
       "25                  Chrome\n",
       "26                  Chrome\n",
       "27                  Safari\n",
       "28                  Safari\n",
       "29                  Safari\n",
       "               ...        \n",
       "90552               Chrome\n",
       "90553               Chrome\n",
       "90554               Chrome\n",
       "90555               Chrome\n",
       "90556              Firefox\n",
       "90557               Chrome\n",
       "90558               Chrome\n",
       "90559    Internet Explorer\n",
       "90560    Internet Explorer\n",
       "90561               Chrome\n",
       "90562               Safari\n",
       "90563               Chrome\n",
       "90564               Chrome\n",
       "90565               Chrome\n",
       "90566               Chrome\n",
       "90567               Chrome\n",
       "90568               Safari\n",
       "90569               Chrome\n",
       "90570               Chrome\n",
       "90571               Chrome\n",
       "90572               Chrome\n",
       "90573               Chrome\n",
       "90574                 Edge\n",
       "90575               Chrome\n",
       "90576               Chrome\n",
       "90577               Safari\n",
       "90578               Chrome\n",
       "90579               Chrome\n",
       "90580               Chrome\n",
       "90581               Chrome\n",
       "Name: device.browser, Length: 90023, dtype: object"
      ]
     },
     "execution_count": 33,
     "metadata": {},
     "output_type": "execute_result"
    }
   ],
   "source": [
    "df_train[df_train['device.browser'].isin(df_train['device.browser'].value_counts()[:10].index.values)]['device.browser']"
   ]
  },
  {
   "cell_type": "markdown",
   "metadata": {},
   "source": [
    "### Revenue and Browser"
   ]
  },
  {
   "cell_type": "code",
   "execution_count": 34,
   "metadata": {},
   "outputs": [
    {
     "data": {
      "image/png": "[encoded data removed]",
      "text/plain": [
       "<Figure size 936x432 with 1 Axes>"
      ]
     },
     "metadata": {},
     "output_type": "display_data"
    }
   ],
   "source": [
    "plt.figure(figsize=(13,6))\n",
    "\n",
    "g1 = sns.boxplot(x = 'device.browser', y= 'totals.transactionRevenue_log',\n",
    "                data = df_train[df_train['device.browser']\\\n",
    "                                .isin(df_train['device.browser']\\\n",
    "                                      .value_counts()[:10].index.values)])\n",
    "\n",
    "\n",
    "g1.set_title('Browser Name by Transaction Revenue', fontsize =20)\n",
    "g1.set_xticklabels(g1. get_xticklabels(), rotation = 45)\n",
    "g1.set_xlabel('Device Names', fontsize=18)\n",
    "g1.set_ylabel('Trans Revenue(log) Distribution', fontsize = 18)\n",
    "\n",
    "plt.show()"
   ]
  },
  {
   "cell_type": "markdown",
   "metadata": {},
   "source": [
    "### Channel Grouping"
   ]
  },
  {
   "cell_type": "code",
   "execution_count": 35,
   "metadata": {},
   "outputs": [
    {
     "data": {
      "text/plain": [
       "array(['Organic Search', 'Referral', 'Affiliates', 'Direct', 'Display',\n",
       "       'Paid Search', 'Social', '(Other)'], dtype=object)"
      ]
     },
     "execution_count": 35,
     "metadata": {},
     "output_type": "execute_result"
    }
   ],
   "source": [
    "df_train['channelGrouping'].unique()"
   ]
  },
  {
   "cell_type": "code",
   "execution_count": 36,
   "metadata": {},
   "outputs": [
    {
     "name": "stdout",
     "output_type": "stream",
     "text": [
      "Percentual of Channel Grouping used : \n",
      "Organic Search    38302\n",
      "Social            22676\n",
      "Direct            14284\n",
      "Referral          10536\n",
      "Paid Search        2566\n",
      "Affiliates         1589\n",
      "Display             620\n",
      "Name: channelGrouping, dtype: int64\n"
     ]
    }
   ],
   "source": [
    "print(\"Percentual of Channel Grouping used : \")\n",
    "print((df_train['channelGrouping'].value_counts()[:7]))"
   ]
  },
  {
   "cell_type": "code",
   "execution_count": 37,
   "metadata": {},
   "outputs": [
    {
     "data": {
      "image/png": "[encoded data removed]",
      "text/plain": [
       "<Figure size 1008x504 with 1 Axes>"
      ]
     },
     "metadata": {},
     "output_type": "display_data"
    }
   ],
   "source": [
    "plt.figure(figsize=(14,7))\n",
    "sns.countplot(df_train['channelGrouping'], palette='hls')\n",
    "plt.title(\"Channel Grouping Count\", fontsize =20)\n",
    "plt.xlabel(\"Channel Grouping Name\", fontsize =20)\n",
    "plt.ylabel(\"Count\", fontsize =20)\n",
    "plt.show()"
   ]
  },
  {
   "cell_type": "markdown",
   "metadata": {},
   "source": [
    "### Crossing Channel Grouping and Browsers\n",
    "* 참신한 방법인듯"
   ]
  },
  {
   "cell_type": "code",
   "execution_count": 38,
   "metadata": {},
   "outputs": [
    {
     "data": {
      "image/png": "[encoded data removed]",
      "text/plain": [
       "<Figure size 1008x504 with 1 Axes>"
      ]
     },
     "metadata": {},
     "output_type": "display_data"
    }
   ],
   "source": [
    "crosstab_eda = pd.crosstab(index = df_train['channelGrouping'], normalize=True, columns=df_train[df_train['device.browser']\\\n",
    "                                                                                                 .isin(df_train['device.browser'].value_counts()[:5]\\\n",
    "                                                                                                       .index.values)]['device.browser'])\n",
    "\n",
    "\n",
    "crosstab_eda.plot(kind=  'bar', figsize = (14,7), stacked = True)\n",
    "plt.title(\"Channel Grouping % which Browser\", fontsize = 20)\n",
    "plt.xlabel(\"Channel grouping name\", fontsize = 18)\n",
    "plt.ylabel(\"Count\", fontsize = 18)\n",
    "plt.xticks(rotation = 0)\n",
    "plt.show()"
   ]
  },
  {
   "cell_type": "markdown",
   "metadata": {},
   "source": [
    "### Operational System"
   ]
  },
  {
   "cell_type": "code",
   "execution_count": 39,
   "metadata": {},
   "outputs": [
    {
     "name": "stdout",
     "output_type": "stream",
     "text": [
      "Percentual of Operational System : \n",
      "Windows      35149\n",
      "Macintosh    25513\n",
      "Android      12198\n",
      "iOS          10993\n",
      "Linux         3490\n",
      "Name: device.operatingSystem, dtype: int64\n"
     ]
    }
   ],
   "source": [
    "print(\"Percentual of Operational System : \")\n",
    "print(df_train['device.operatingSystem'].value_counts()[:5])"
   ]
  },
  {
   "cell_type": "code",
   "execution_count": 40,
   "metadata": {},
   "outputs": [
    {
     "data": {
      "image/png": "[encoded data removed]",
      "text/plain": [
       "<Figure size 1008x504 with 1 Axes>"
      ]
     },
     "metadata": {},
     "output_type": "display_data"
    }
   ],
   "source": [
    "plt.figure(figsize=(14,7))\n",
    "sns.countplot(df_train['device.operatingSystem'],palette = 'hls')\n",
    "plt.title(\"Operational System used Count\", fontsize=20)\n",
    "plt.xlabel(\"Operational System Name\", fontsize=18)\n",
    "plt.ylabel(\"Count\", fontsize= 18)\n",
    "plt.xticks(rotation = 45)\n",
    "plt.show()"
   ]
  },
  {
   "cell_type": "code",
   "execution_count": 41,
   "metadata": {},
   "outputs": [
    {
     "data": {
      "image/png": "[encoded data removed]",
      "text/plain": [
       "<Figure size 1008x504 with 1 Axes>"
      ]
     },
     "metadata": {},
     "output_type": "display_data"
    }
   ],
   "source": [
    "plt.figure(figsize=(14,7))\n",
    "sns.countplot(df_train[df_train['device.operatingSystem']\\\n",
    "                       .isin(df_train['device.operatingSystem']\\\n",
    "                             .value_counts()[:5].index.values)]['device.operatingSystem'],palette = 'hls')\n",
    "plt.title(\"Operational System used Count Top 5\", fontsize=20)\n",
    "plt.xlabel(\"Operational System Name\", fontsize=18)\n",
    "plt.ylabel(\"Count\", fontsize= 18)\n",
    "plt.xticks(rotation = 45)\n",
    "plt.show()"
   ]
  },
  {
   "cell_type": "markdown",
   "metadata": {},
   "source": [
    "## Used browser by Operational system"
   ]
  },
  {
   "cell_type": "code",
   "execution_count": 42,
   "metadata": {},
   "outputs": [
    {
     "data": {
      "image/png": "[encoded data removed]",
      "text/plain": [
       "<Figure size 1008x504 with 1 Axes>"
      ]
     },
     "metadata": {},
     "output_type": "display_data"
    }
   ],
   "source": [
    "crosstab_eda = pd.crosstab(index = df_train[df_train['device.operatingSystem'].isin(df_train['device.operatingSystem'].value_counts()[:6].index.values)]['device.operatingSystem'],\n",
    "                                            columns = df_train[df_train['device.browser'].isin(df_train['device.browser'].value_counts()[:5].index.values)]['device.browser'])\n",
    "\n",
    "\n",
    "crosstab_eda.plot(kind = 'bar',\n",
    "                             figsize = (14,7),\n",
    "                             stacked=True)\n",
    "\n",
    "plt.title(\"Most frequent OS's by Browsers of users\", fontsize = 22)\n",
    "plt.xlabel(\"Operational Sys Name\", fontsize=19)\n",
    "plt.ylabel(\"Count browser\", fontsize=19)\n",
    "plt.xticks(rotation = 0)\n",
    "plt.show()\n"
   ]
  },
  {
   "cell_type": "markdown",
   "metadata": {},
   "source": [
    "## Distribution revenue by OS????"
   ]
  },
  {
   "cell_type": "code",
   "execution_count": 43,
   "metadata": {},
   "outputs": [
    {
     "data": {
      "image/png": "[encoded data removed]",
      "text/plain": [
       "<Figure size 874.125x360 with 1 Axes>"
      ]
     },
     "metadata": {},
     "output_type": "display_data"
    }
   ],
   "source": [
    "(sns.FacetGrid(df_train[(df_train['device.operatingSystem']\\\n",
    "                         .isin(df_train['device.operatingSystem']\\\n",
    "                               .value_counts()[:6].index.values)) ], \n",
    "               hue='device.operatingSystem',height = 5, aspect = 2)\n",
    " .map(sns.kdeplot, 'totals.transactionRevenue', shade = True)\n",
    " .add_legend())\n",
    "\n",
    "plt.show()"
   ]
  },
  {
   "cell_type": "markdown",
   "metadata": {},
   "source": [
    "## Device Category"
   ]
  },
  {
   "cell_type": "code",
   "execution_count": 44,
   "metadata": {},
   "outputs": [
    {
     "name": "stdout",
     "output_type": "stream",
     "text": [
      "Percentural of Operational System: \n",
      "desktop    73.55\n",
      "mobile     23.02\n",
      "tablet      3.43\n",
      "Name: device.deviceCategory, dtype: float64\n"
     ]
    }
   ],
   "source": [
    "print(\"Percentural of Operational System: \")\n",
    "print(round(df_train['device.deviceCategory'].value_counts() / len(df_train['device.deviceCategory']) * 100 ,2))"
   ]
  },
  {
   "cell_type": "code",
   "execution_count": 45,
   "metadata": {},
   "outputs": [
    {
     "data": {
      "image/png": "[encoded data removed]",
      "text/plain": [
       "<Figure size 1008x360 with 2 Axes>"
      ]
     },
     "metadata": {},
     "output_type": "display_data"
    }
   ],
   "source": [
    "plt.figure(figsize=(14,5))\n",
    "\n",
    "plt.subplot(1,2,1)\n",
    "sns.countplot(df_train['device.deviceCategory'], palette = 'hls')\n",
    "plt.title(\"Device Category Count\", fontsize = 20)\n",
    "plt.xlabel(\"Device Category\", fontsize = 18)\n",
    "plt.ylabel(\"Count\", fontsize= 16)\n",
    "plt.xticks(fontsize = 18)\n",
    "\n",
    "plt.subplot(1,2,2)\n",
    "sns.boxplot(x = \"device.deviceCategory\",  y = 'totals.transactionRevenue',\n",
    "           data = df_train[df_train['totals.transactionRevenue'] > 0 ], palette = \"hls\")\n",
    "\n",
    "plt.title(\"Device Category Revenue Distribution\", fontsize = 20)\n",
    "plt.xlabel(\"Device Category\", fontsize = 18)\n",
    "plt.ylabel(\"Revenue - log\",fontsize=16)\n",
    "plt.xticks(fontsize = 18)\n",
    "\n",
    "plt.subplots_adjust(hspace = 0.9, wspace = 0.5)\n",
    "plt.show()\n"
   ]
  },
  {
   "cell_type": "markdown",
   "metadata": {},
   "source": [
    "## Defference distribution between Devices"
   ]
  },
  {
   "cell_type": "code",
   "execution_count": 46,
   "metadata": {},
   "outputs": [
    {
     "data": {
      "image/png": "[encoded data removed]",
      "text/plain": [
       "<Figure size 865.5x360 with 1 Axes>"
      ]
     },
     "metadata": {},
     "output_type": "display_data"
    }
   ],
   "source": [
    "(sns.FacetGrid(df_train[df_train['totals.transactionRevenue'] >0] ,\n",
    "              hue = 'device.deviceCategory', height =5, aspect =2)\n",
    " .map(sns.kdeplot, 'totals.transactionRevenue', shade = True)\n",
    " .add_legend()\n",
    ")\n",
    "plt.show()"
   ]
  },
  {
   "cell_type": "markdown",
   "metadata": {},
   "source": [
    "##  OS by Device category "
   ]
  },
  {
   "cell_type": "code",
   "execution_count": 47,
   "metadata": {},
   "outputs": [],
   "source": [
    "crosstab_eda = pd.crosstab(index = df_train['device.deviceCategory'],\n",
    "                          columns = df_train[df_train['device.operatingSystem']\\\n",
    "                                             .isin(df_train['device.operatingSystem']\\\n",
    "                                                   .value_counts()[:6].index.values)]['device.operatingSystem'])"
   ]
  },
  {
   "cell_type": "code",
   "execution_count": 48,
   "metadata": {},
   "outputs": [
    {
     "data": {
      "image/png": "[encoded data removed]",
      "text/plain": [
       "<Figure size 1008x504 with 1 Axes>"
      ]
     },
     "metadata": {},
     "output_type": "display_data"
    }
   ],
   "source": [
    "crosstab_eda.plot(kind = 'bar',\n",
    "                 figsize = (14,7),\n",
    "                 stacked= True)\n",
    "plt.title(\"Most OS's by Device Categoty\", fontsize = 22)\n",
    "plt.xlabel(\"Device Name\", fontsize = 19)\n",
    "plt.ylabel(\"Cont Device OS\", fontsize = 19)\n",
    "plt.xticks(rotation = 0)\n",
    "plt.show()\n"
   ]
  },
  {
   "cell_type": "markdown",
   "metadata": {},
   "source": [
    "## Interactive date features"
   ]
  },
  {
   "cell_type": "code",
   "execution_count": 49,
   "metadata": {},
   "outputs": [
    {
     "data": {
      "text/plain": [
       "Index(['channelGrouping', 'date', 'fullVisitorId', 'sessionId', 'visitId',\n",
       "       'visitNumber', 'visitStartTime', 'device.browser',\n",
       "       'device.deviceCategory', 'device.isMobile', 'device.operatingSystem',\n",
       "       'geoNetwork.city', 'geoNetwork.continent', 'geoNetwork.country',\n",
       "       'geoNetwork.metro', 'geoNetwork.networkDomain', 'geoNetwork.region',\n",
       "       'geoNetwork.subContinent', 'totals.bounces', 'totals.hits',\n",
       "       'totals.newVisits', 'totals.pageviews', 'totals.transactionRevenue',\n",
       "       'trafficSource.adContent', 'trafficSource.adwordsClickInfo.gclId',\n",
       "       'trafficSource.adwordsClickInfo.page',\n",
       "       'trafficSource.adwordsClickInfo.slot', 'trafficSource.campaign',\n",
       "       'trafficSource.isTrueDirect', 'trafficSource.keyword',\n",
       "       'trafficSource.medium', 'trafficSource.referralPath',\n",
       "       'trafficSource.source', '_weekday', '_day', '_month', '_year',\n",
       "       '_visitHour', 'totals.transactionRevenue_log'],\n",
       "      dtype='object')"
      ]
     },
     "execution_count": 49,
     "metadata": {},
     "output_type": "execute_result"
    }
   ],
   "source": [
    "df_train.columns"
   ]
  },
  {
   "cell_type": "code",
   "execution_count": 50,
   "metadata": {},
   "outputs": [],
   "source": [
    "year = df_train['_year'].value_counts()         # counting the Year with value counts\n",
    "month = df_train['_month'].value_counts()      # coutning months\n",
    "weeday = df_train['_weekday'].value_counts()    # Couting weekday\n",
    "day = df_train['_day'].value_counts()              # counting Day\n",
    "date = df_train['date'].value_counts()           # Counting date"
   ]
  },
  {
   "cell_type": "code",
   "execution_count": null,
   "metadata": {},
   "outputs": [],
   "source": []
  }
 ],
 "metadata": {
  "kernelspec": {
   "display_name": "Python (ml_python_linux)",
   "language": "python",
   "name": "ml_python_linux"
  },
  "language_info": {
   "codemirror_mode": {
    "name": "ipython",
    "version": 3
   },
   "file_extension": ".py",
   "mimetype": "text/x-python",
   "name": "python",
   "nbconvert_exporter": "python",
   "pygments_lexer": "ipython3",
   "version": "3.5.5"
  }
 },
 "nbformat": 4,
 "nbformat_minor": 2
}
